{
 "cells": [
  {
   "cell_type": "code",
   "execution_count": 1,
   "metadata": {},
   "outputs": [],
   "source": [
    "import json\n",
    "import pandas as pd"
   ]
  },
  {
   "cell_type": "code",
   "execution_count": 21,
   "metadata": {},
   "outputs": [],
   "source": [
    "with open('/home/pding/OneDrive/kph/fullms.json') as f:\n",
    "  arto = json.load(f)"
   ]
  },
  {
   "cell_type": "code",
   "execution_count": 3,
   "metadata": {},
   "outputs": [],
   "source": [
    "artpd = pd.read_json('/home/pding/OneDrive/kph/fullms.json', orient='index', convert_dates=False, convert_axes=False)"
   ]
  },
  {
   "cell_type": "code",
   "execution_count": 8,
   "metadata": {},
   "outputs": [],
   "source": [
    "artpd = artpd.replace('\\n',' ', regex=True)\n",
    "artpd = artpd.replace('\\t',' ', regex=True)"
   ]
  },
  {
   "cell_type": "code",
   "execution_count": 10,
   "metadata": {},
   "outputs": [],
   "source": [
    "import spacy\n",
    "from spacy.matcher import PhraseMatcher\n",
    "import en_core_web_sm\n",
    "svoc = en_core_web_sm.load()"
   ]
  },
  {
   "cell_type": "code",
   "execution_count": 14,
   "metadata": {},
   "outputs": [],
   "source": [
    "artpda = artpd[artpd.abstract.notnull()]\n",
    "artpda.index = pd.Series(artpda.index).apply(lambda x: x[0:8])\n",
    "artpdak = artpda[artpda.keywords.str.len() > 0]\n",
    "dataf = pd.DataFrame(index=artpdak.index, columns=['SRC', 'TRG', 'keywords', 'Extracted', 'abskey'])\n",
    "dataf.loc[:, 'SRC'] = artpdak.title + ' ' + artpdak.abstract\n",
    "dataf.loc[:, 'keywords'] = artpdak.keywords\n",
    "matcher = PhraseMatcher(svoc.vocab, attr=\"LOWER\")\n",
    "for pmid in dataf.index:\n",
    "    t0 = dataf.loc[pmid]\n",
    "    patterns = [svoc.make_doc(str(name)) for name in t0.keywords]\n",
    "    matcher.add(\"Names\", None, *patterns)\n",
    "    doc = svoc(t0.SRC)\n",
    "    t1 = ['O']*(len(doc))\n",
    "    matched = []\n",
    "    matn = 0\n",
    "    for _, start, end in matcher(doc):\n",
    "        t1[start] = 'B'\n",
    "        t1[start+1:end] = 'I'*(end-start-1)\n",
    "        if str(doc[start:end]).lower() not in matched:\n",
    "            matn = matn+1\n",
    "            matched.append(str(doc[start:end]).lower())\n",
    "    abskw = []\n",
    "    for x in t0.keywords:\n",
    "        try:\n",
    "            if x.lower() not in matched:\n",
    "                abskw.append(x)\n",
    "        except(AttributeError, TypeError):\n",
    "            pass\n",
    "    dataf.loc[pmid, 'TRG'] = ' '.join([t for t in t1])\n",
    "    dataf.loc[pmid, 'Extracted'] = matn\n",
    "    dataf.loc[pmid, 'abskey'] = abskw\n",
    "    matcher.remove(\"Names\")\n",
    "dataf.to_pickle(\"/home/pding/OneDrive/kph/processed3.pkl\")"
   ]
  },
  {
   "cell_type": "code",
   "execution_count": 15,
   "metadata": {},
   "outputs": [
    {
     "data": {
      "text/html": [
       "<div>\n",
       "<style scoped>\n",
       "    .dataframe tbody tr th:only-of-type {\n",
       "        vertical-align: middle;\n",
       "    }\n",
       "\n",
       "    .dataframe tbody tr th {\n",
       "        vertical-align: top;\n",
       "    }\n",
       "\n",
       "    .dataframe thead th {\n",
       "        text-align: right;\n",
       "    }\n",
       "</style>\n",
       "<table border=\"1\" class=\"dataframe\">\n",
       "  <thead>\n",
       "    <tr style=\"text-align: right;\">\n",
       "      <th></th>\n",
       "      <th>SRC</th>\n",
       "      <th>TRG</th>\n",
       "      <th>keywords</th>\n",
       "      <th>Extracted</th>\n",
       "      <th>abskey</th>\n",
       "    </tr>\n",
       "  </thead>\n",
       "  <tbody>\n",
       "    <tr>\n",
       "      <th>32460418</th>\n",
       "      <td>Chromatin remodelers in oligodendroglia. Oligo...</td>\n",
       "      <td>B I O O O O O O O O O O O O O O O O O O O O O ...</td>\n",
       "      <td>[CNS development, chromatin remodelers, oligod...</td>\n",
       "      <td>1</td>\n",
       "      <td>[CNS development, oligodendrogenesis, transcri...</td>\n",
       "    </tr>\n",
       "    <tr>\n",
       "      <th>32460167</th>\n",
       "      <td>Clinical implications of serum neurofilament i...</td>\n",
       "      <td>O O O O O O O O O O O O O O O O O O O O O O B ...</td>\n",
       "      <td>[Biomarker, Multiple sclerosis, Neurofilament ...</td>\n",
       "      <td>4</td>\n",
       "      <td>[Prediction]</td>\n",
       "    </tr>\n",
       "    <tr>\n",
       "      <th>32460145</th>\n",
       "      <td>Effect of cognitive rehabilitation on neuropsy...</td>\n",
       "      <td>O O B I O O O O O O O O O O O B I O O O O O O ...</td>\n",
       "      <td>[Clinical trial, Cognition, Cognitive rehabili...</td>\n",
       "      <td>4</td>\n",
       "      <td>[Clinical trial, Cognition]</td>\n",
       "    </tr>\n",
       "    <tr>\n",
       "      <th>32460086</th>\n",
       "      <td>B-cell depleting therapies may affect suscepti...</td>\n",
       "      <td>B I I I I O O O O O O O O O O B I O O O B O O ...</td>\n",
       "      <td>[B-cell depleting therapies, COVID-19, DMTs, M...</td>\n",
       "      <td>4</td>\n",
       "      <td>[]</td>\n",
       "    </tr>\n",
       "    <tr>\n",
       "      <th>32459513</th>\n",
       "      <td>The dichotomous role of the gut microbiome in ...</td>\n",
       "      <td>O O O O O B I O O O O B I O O O B I O O O O O ...</td>\n",
       "      <td>[Alzheimer’s disease, Parkinson’s disease, gut...</td>\n",
       "      <td>5</td>\n",
       "      <td>[Alzheimer’s disease, Parkinson’s disease, gut...</td>\n",
       "    </tr>\n",
       "    <tr>\n",
       "      <th>...</th>\n",
       "      <td>...</td>\n",
       "      <td>...</td>\n",
       "      <td>...</td>\n",
       "      <td>...</td>\n",
       "      <td>...</td>\n",
       "    </tr>\n",
       "    <tr>\n",
       "      <th>13106716</th>\n",
       "      <td>Multiple sclerosis; its frequency and distribu...</td>\n",
       "      <td>O O O O O O O O O O O O O O O O O O O O O O O ...</td>\n",
       "      <td>[MULTIPLE SCLEROSIS/epidemiology]</td>\n",
       "      <td>0</td>\n",
       "      <td>[MULTIPLE SCLEROSIS/epidemiology]</td>\n",
       "    </tr>\n",
       "    <tr>\n",
       "      <th>13106715</th>\n",
       "      <td>The allergic aspects of multiple sclerosis. Fo...</td>\n",
       "      <td>O O O O O O O O O O O O O O O O O O O O O O O ...</td>\n",
       "      <td>[ALLERGY/manifestations]</td>\n",
       "      <td>0</td>\n",
       "      <td>[ALLERGY/manifestations]</td>\n",
       "    </tr>\n",
       "    <tr>\n",
       "      <th>13106714</th>\n",
       "      <td>Histamine treatment of multiple sclerosis. His...</td>\n",
       "      <td>O O O O O O O O O O O O O O O O O O O O O O O ...</td>\n",
       "      <td>[HISTAMINE/therapeutic use, MULTIPLE SCLEROSIS...</td>\n",
       "      <td>0</td>\n",
       "      <td>[HISTAMINE/therapeutic use, MULTIPLE SCLEROSIS...</td>\n",
       "    </tr>\n",
       "    <tr>\n",
       "      <th>14832406</th>\n",
       "      <td>Studies on acute disseminated encephalomyeliti...</td>\n",
       "      <td>O O O O B O O O O O O O O O O O O O O O O O O ...</td>\n",
       "      <td>[CEREBROSPINAL FLUID, ENCEPHALOMYELITIS]</td>\n",
       "      <td>2</td>\n",
       "      <td>[]</td>\n",
       "    </tr>\n",
       "    <tr>\n",
       "      <th>14824402</th>\n",
       "      <td>Demyelinization induced in living rabbits by m...</td>\n",
       "      <td>O O O O O O O O O O O O O O O O O O O O O O O ...</td>\n",
       "      <td>[ENZYMES, SCLEROSIS]</td>\n",
       "      <td>1</td>\n",
       "      <td>[ENZYMES]</td>\n",
       "    </tr>\n",
       "  </tbody>\n",
       "</table>\n",
       "<p>20960 rows × 5 columns</p>\n",
       "</div>"
      ],
      "text/plain": [
       "                                                        SRC  \\\n",
       "32460418  Chromatin remodelers in oligodendroglia. Oligo...   \n",
       "32460167  Clinical implications of serum neurofilament i...   \n",
       "32460145  Effect of cognitive rehabilitation on neuropsy...   \n",
       "32460086  B-cell depleting therapies may affect suscepti...   \n",
       "32459513  The dichotomous role of the gut microbiome in ...   \n",
       "...                                                     ...   \n",
       "13106716  Multiple sclerosis; its frequency and distribu...   \n",
       "13106715  The allergic aspects of multiple sclerosis. Fo...   \n",
       "13106714  Histamine treatment of multiple sclerosis. His...   \n",
       "14832406  Studies on acute disseminated encephalomyeliti...   \n",
       "14824402  Demyelinization induced in living rabbits by m...   \n",
       "\n",
       "                                                        TRG  \\\n",
       "32460418  B I O O O O O O O O O O O O O O O O O O O O O ...   \n",
       "32460167  O O O O O O O O O O O O O O O O O O O O O O B ...   \n",
       "32460145  O O B I O O O O O O O O O O O B I O O O O O O ...   \n",
       "32460086  B I I I I O O O O O O O O O O B I O O O B O O ...   \n",
       "32459513  O O O O O B I O O O O B I O O O B I O O O O O ...   \n",
       "...                                                     ...   \n",
       "13106716  O O O O O O O O O O O O O O O O O O O O O O O ...   \n",
       "13106715  O O O O O O O O O O O O O O O O O O O O O O O ...   \n",
       "13106714  O O O O O O O O O O O O O O O O O O O O O O O ...   \n",
       "14832406  O O O O B O O O O O O O O O O O O O O O O O O ...   \n",
       "14824402  O O O O O O O O O O O O O O O O O O O O O O O ...   \n",
       "\n",
       "                                                   keywords Extracted  \\\n",
       "32460418  [CNS development, chromatin remodelers, oligod...         1   \n",
       "32460167  [Biomarker, Multiple sclerosis, Neurofilament ...         4   \n",
       "32460145  [Clinical trial, Cognition, Cognitive rehabili...         4   \n",
       "32460086  [B-cell depleting therapies, COVID-19, DMTs, M...         4   \n",
       "32459513  [Alzheimer’s disease, Parkinson’s disease, gut...         5   \n",
       "...                                                     ...       ...   \n",
       "13106716                  [MULTIPLE SCLEROSIS/epidemiology]         0   \n",
       "13106715                           [ALLERGY/manifestations]         0   \n",
       "13106714  [HISTAMINE/therapeutic use, MULTIPLE SCLEROSIS...         0   \n",
       "14832406           [CEREBROSPINAL FLUID, ENCEPHALOMYELITIS]         2   \n",
       "14824402                               [ENZYMES, SCLEROSIS]         1   \n",
       "\n",
       "                                                     abskey  \n",
       "32460418  [CNS development, oligodendrogenesis, transcri...  \n",
       "32460167                                       [Prediction]  \n",
       "32460145                        [Clinical trial, Cognition]  \n",
       "32460086                                                 []  \n",
       "32459513  [Alzheimer’s disease, Parkinson’s disease, gut...  \n",
       "...                                                     ...  \n",
       "13106716                  [MULTIPLE SCLEROSIS/epidemiology]  \n",
       "13106715                           [ALLERGY/manifestations]  \n",
       "13106714  [HISTAMINE/therapeutic use, MULTIPLE SCLEROSIS...  \n",
       "14832406                                                 []  \n",
       "14824402                                          [ENZYMES]  \n",
       "\n",
       "[20960 rows x 5 columns]"
      ]
     },
     "execution_count": 15,
     "metadata": {},
     "output_type": "execute_result"
    }
   ],
   "source": [
    "dataf"
   ]
  },
  {
   "cell_type": "code",
   "execution_count": 13,
   "metadata": {},
   "outputs": [
    {
     "data": {
      "text/plain": [
       "SRC          The Relationships between Physical Activity, S...\n",
       "TRG                                                        NaN\n",
       "keywords     [None, efficacy expectations, exercise, health...\n",
       "Extracted                                                  NaN\n",
       "abskey                                                     NaN\n",
       "Name: 31766489, dtype: object"
      ]
     },
     "execution_count": 13,
     "metadata": {},
     "output_type": "execute_result"
    }
   ],
   "source": [
    "dataf.loc[pmid]"
   ]
  },
  {
   "cell_type": "code",
   "execution_count": 4,
   "metadata": {},
   "outputs": [],
   "source": [
    "artpda = artpd[artpd.abstract.notnull()]"
   ]
  },
  {
   "cell_type": "code",
   "execution_count": 5,
   "metadata": {},
   "outputs": [],
   "source": [
    "artpda.index = pd.Series(artpda.index).apply(lambda x: x[0:8])"
   ]
  },
  {
   "cell_type": "code",
   "execution_count": 6,
   "metadata": {},
   "outputs": [],
   "source": [
    "artpdak = artpda[artpda.keywords.str.len() > 0]"
   ]
  },
  {
   "cell_type": "code",
   "execution_count": 7,
   "metadata": {},
   "outputs": [],
   "source": [
    "dataf = pd.DataFrame(index=artpdak.index, columns=['SRC', 'TRG', 'keywords', 'Extracted', 'abskey'])\n",
    "dataf.loc[:,'SRC'] = artpdak.title + ' '+ artpdak.abstract"
   ]
  },
  {
   "cell_type": "code",
   "execution_count": 8,
   "metadata": {},
   "outputs": [],
   "source": [
    "dataf.loc[:,'keywords'] = artpdak.keywords"
   ]
  },
  {
   "cell_type": "code",
   "execution_count": 9,
   "metadata": {},
   "outputs": [],
   "source": [
    "import spacy\n",
    "from spacy.matcher import PhraseMatcher\n",
    "import en_core_web_sm\n",
    "svoc = en_core_web_sm.load()"
   ]
  },
  {
   "cell_type": "code",
   "execution_count": 10,
   "metadata": {},
   "outputs": [],
   "source": [
    "matcher = PhraseMatcher(svoc.vocab, attr=\"LOWER\")"
   ]
  },
  {
   "cell_type": "code",
   "execution_count": 11,
   "metadata": {},
   "outputs": [
    {
     "ename": "AttributeError",
     "evalue": "'spacy.matcher.phrasematcher.PhraseMatcher' object has no attribute 'remove'",
     "output_type": "error",
     "traceback": [
      "\u001b[0;31m---------------------------------------------------------------------------\u001b[0m",
      "\u001b[0;31mAttributeError\u001b[0m                            Traceback (most recent call last)",
      "\u001b[0;32m<ipython-input-11-b23f7a04f9b8>\u001b[0m in \u001b[0;36m<module>\u001b[0;34m\u001b[0m\n\u001b[1;32m     17\u001b[0m     \u001b[0mdataf\u001b[0m\u001b[0;34m.\u001b[0m\u001b[0mloc\u001b[0m\u001b[0;34m[\u001b[0m\u001b[0mpmid\u001b[0m\u001b[0;34m,\u001b[0m\u001b[0;34m'TRG'\u001b[0m\u001b[0;34m]\u001b[0m \u001b[0;34m=\u001b[0m \u001b[0;34m' '\u001b[0m\u001b[0;34m.\u001b[0m\u001b[0mjoin\u001b[0m\u001b[0;34m(\u001b[0m\u001b[0;34m[\u001b[0m\u001b[0mt\u001b[0m \u001b[0;32mfor\u001b[0m \u001b[0mt\u001b[0m \u001b[0;32min\u001b[0m \u001b[0mt1\u001b[0m\u001b[0;34m]\u001b[0m\u001b[0;34m)\u001b[0m\u001b[0;34m\u001b[0m\u001b[0;34m\u001b[0m\u001b[0m\n\u001b[1;32m     18\u001b[0m     \u001b[0mdataf\u001b[0m\u001b[0;34m.\u001b[0m\u001b[0mloc\u001b[0m\u001b[0;34m[\u001b[0m\u001b[0mpmid\u001b[0m\u001b[0;34m,\u001b[0m\u001b[0;34m'ext perc'\u001b[0m\u001b[0;34m]\u001b[0m \u001b[0;34m=\u001b[0m \u001b[0mmatn\u001b[0m\u001b[0;34m\u001b[0m\u001b[0;34m\u001b[0m\u001b[0m\n\u001b[0;32m---> 19\u001b[0;31m     \u001b[0mmatcher\u001b[0m\u001b[0;34m.\u001b[0m\u001b[0mremove\u001b[0m\u001b[0;34m(\u001b[0m\u001b[0;34m\"Names\"\u001b[0m\u001b[0;34m)\u001b[0m\u001b[0;34m\u001b[0m\u001b[0;34m\u001b[0m\u001b[0m\n\u001b[0m",
      "\u001b[0;31mAttributeError\u001b[0m: 'spacy.matcher.phrasematcher.PhraseMatcher' object has no attribute 'remove'"
     ]
    }
   ],
   "source": [
    "for pmid in dataf.index:\n",
    "    t0 = dataf.loc[pmid]\n",
    "    patterns = [svoc.make_doc(str(name)) for name in t0.keywords ]\n",
    "    #matcher = PhraseMatcher(svoc.vocab, attr=\"LOWER\")\n",
    "    matcher.add(\"Names\", None, *patterns)\n",
    "    doc = svoc(t0.SRC)\n",
    "    t1 = ['O']*(len(doc))\n",
    "    matched = []\n",
    "    matn = 0\n",
    "    for _, start, end in matcher(doc):\n",
    "        t1[start] = 'B'\n",
    "        t1[start+1:end] = 'I'*(end-start-1)\n",
    "        #print(doc[start:end])\n",
    "        if str(doc[start:end]).lower() not in matched:\n",
    "            matn = matn+1\n",
    "            matched.append(str(doc[start:end]).lower())\n",
    "    abskw = []\n",
    "    for x in t0.keywords:\n",
    "        if x.lower() not in matched:\n",
    "            abskw.append(x)\n",
    "    dataf.loc[pmid,'TRG'] = ' '.join([t for t in t1])\n",
    "    dataf.loc[pmid,'Extracted'] = matn\n",
    "    dataf.loc[pmid,'abskey'] = abskw\n",
    "    matcher.remove(\"Names\")"
   ]
  },
  {
   "cell_type": "code",
   "execution_count": 11,
   "metadata": {},
   "outputs": [],
   "source": [
    "pmid = '32460418'"
   ]
  },
  {
   "cell_type": "code",
   "execution_count": 12,
   "metadata": {},
   "outputs": [],
   "source": [
    "t0 = dataf.loc[pmid]\n",
    "patterns = [svoc.make_doc(str(name)) for name in t0.keywords ]\n",
    "#matcher = PhraseMatcher(svoc.vocab, attr=\"LOWER\")\n",
    "matcher.add(\"Names\", None, *patterns)\n",
    "doc = svoc(t0.SRC)\n",
    "t1 = ['O']*(len(doc))\n",
    "matched = []\n",
    "matn = 0\n",
    "for _, start, end in matcher(doc):\n",
    "    t1[start] = 'B'\n",
    "    t1[start+1:end] = 'I'*(end-start-1)\n",
    "    #print(doc[start:end])\n",
    "    if str(doc[start:end]).lower() not in matched:\n",
    "        matn = matn+1\n",
    "        matched.append(str(doc[start:end]).lower())\n",
    "abskw = []\n",
    "for x in t0.keywords:\n",
    "    if x.lower() not in matched:\n",
    "        abskw.append(x)\n",
    "dataf.loc[pmid,'TRG'] = ' '.join([t for t in t1])\n",
    "dataf.loc[pmid,'Extracted'] = matn\n",
    "dataf.loc[pmid,'abskey'] = abskw\n",
    "matcher.remove(\"Names\")"
   ]
  },
  {
   "cell_type": "code",
   "execution_count": 13,
   "metadata": {},
   "outputs": [
    {
     "data": {
      "text/html": [
       "<div>\n",
       "<style scoped>\n",
       "    .dataframe tbody tr th:only-of-type {\n",
       "        vertical-align: middle;\n",
       "    }\n",
       "\n",
       "    .dataframe tbody tr th {\n",
       "        vertical-align: top;\n",
       "    }\n",
       "\n",
       "    .dataframe thead th {\n",
       "        text-align: right;\n",
       "    }\n",
       "</style>\n",
       "<table border=\"1\" class=\"dataframe\">\n",
       "  <thead>\n",
       "    <tr style=\"text-align: right;\">\n",
       "      <th></th>\n",
       "      <th>SRC</th>\n",
       "      <th>TRG</th>\n",
       "      <th>keywords</th>\n",
       "      <th>Extracted</th>\n",
       "      <th>abskey</th>\n",
       "    </tr>\n",
       "  </thead>\n",
       "  <tbody>\n",
       "    <tr>\n",
       "      <th>32460418</th>\n",
       "      <td>Chromatin remodelers in oligodendroglia. Oligo...</td>\n",
       "      <td>B I O O O O O O O O O O O O O O O O O O O O O ...</td>\n",
       "      <td>[CNS development, chromatin remodelers, oligod...</td>\n",
       "      <td>1</td>\n",
       "      <td>[CNS development, oligodendrogenesis, transcri...</td>\n",
       "    </tr>\n",
       "    <tr>\n",
       "      <th>32460167</th>\n",
       "      <td>Clinical implications of serum neurofilament i...</td>\n",
       "      <td>NaN</td>\n",
       "      <td>[Biomarker, Multiple sclerosis, Neurofilament ...</td>\n",
       "      <td>NaN</td>\n",
       "      <td>NaN</td>\n",
       "    </tr>\n",
       "    <tr>\n",
       "      <th>32460145</th>\n",
       "      <td>Effect of cognitive rehabilitation on neuropsy...</td>\n",
       "      <td>NaN</td>\n",
       "      <td>[Clinical trial, Cognition, Cognitive rehabili...</td>\n",
       "      <td>NaN</td>\n",
       "      <td>NaN</td>\n",
       "    </tr>\n",
       "    <tr>\n",
       "      <th>32460086</th>\n",
       "      <td>B-cell depleting therapies may affect suscepti...</td>\n",
       "      <td>NaN</td>\n",
       "      <td>[B-cell depleting therapies, COVID-19, DMTs, M...</td>\n",
       "      <td>NaN</td>\n",
       "      <td>NaN</td>\n",
       "    </tr>\n",
       "    <tr>\n",
       "      <th>32459513</th>\n",
       "      <td>The dichotomous role of the gut microbiome in ...</td>\n",
       "      <td>NaN</td>\n",
       "      <td>[Alzheimer’s disease, Parkinson’s disease, gut...</td>\n",
       "      <td>NaN</td>\n",
       "      <td>NaN</td>\n",
       "    </tr>\n",
       "    <tr>\n",
       "      <th>...</th>\n",
       "      <td>...</td>\n",
       "      <td>...</td>\n",
       "      <td>...</td>\n",
       "      <td>...</td>\n",
       "      <td>...</td>\n",
       "    </tr>\n",
       "    <tr>\n",
       "      <th>13106716</th>\n",
       "      <td>Multiple sclerosis; its frequency and distribu...</td>\n",
       "      <td>NaN</td>\n",
       "      <td>[MULTIPLE SCLEROSIS/epidemiology]</td>\n",
       "      <td>NaN</td>\n",
       "      <td>NaN</td>\n",
       "    </tr>\n",
       "    <tr>\n",
       "      <th>13106715</th>\n",
       "      <td>The allergic aspects of multiple sclerosis. Fo...</td>\n",
       "      <td>NaN</td>\n",
       "      <td>[ALLERGY/manifestations]</td>\n",
       "      <td>NaN</td>\n",
       "      <td>NaN</td>\n",
       "    </tr>\n",
       "    <tr>\n",
       "      <th>13106714</th>\n",
       "      <td>Histamine treatment of multiple sclerosis. His...</td>\n",
       "      <td>NaN</td>\n",
       "      <td>[HISTAMINE/therapeutic use, MULTIPLE SCLEROSIS...</td>\n",
       "      <td>NaN</td>\n",
       "      <td>NaN</td>\n",
       "    </tr>\n",
       "    <tr>\n",
       "      <th>14832406</th>\n",
       "      <td>Studies on acute disseminated encephalomyeliti...</td>\n",
       "      <td>NaN</td>\n",
       "      <td>[CEREBROSPINAL FLUID, ENCEPHALOMYELITIS]</td>\n",
       "      <td>NaN</td>\n",
       "      <td>NaN</td>\n",
       "    </tr>\n",
       "    <tr>\n",
       "      <th>14824402</th>\n",
       "      <td>Demyelinization induced in living rabbits by m...</td>\n",
       "      <td>NaN</td>\n",
       "      <td>[ENZYMES, SCLEROSIS]</td>\n",
       "      <td>NaN</td>\n",
       "      <td>NaN</td>\n",
       "    </tr>\n",
       "  </tbody>\n",
       "</table>\n",
       "<p>20960 rows × 5 columns</p>\n",
       "</div>"
      ],
      "text/plain": [
       "                                                        SRC  \\\n",
       "32460418  Chromatin remodelers in oligodendroglia. Oligo...   \n",
       "32460167  Clinical implications of serum neurofilament i...   \n",
       "32460145  Effect of cognitive rehabilitation on neuropsy...   \n",
       "32460086  B-cell depleting therapies may affect suscepti...   \n",
       "32459513  The dichotomous role of the gut microbiome in ...   \n",
       "...                                                     ...   \n",
       "13106716  Multiple sclerosis; its frequency and distribu...   \n",
       "13106715  The allergic aspects of multiple sclerosis. Fo...   \n",
       "13106714  Histamine treatment of multiple sclerosis. His...   \n",
       "14832406  Studies on acute disseminated encephalomyeliti...   \n",
       "14824402  Demyelinization induced in living rabbits by m...   \n",
       "\n",
       "                                                        TRG  \\\n",
       "32460418  B I O O O O O O O O O O O O O O O O O O O O O ...   \n",
       "32460167                                                NaN   \n",
       "32460145                                                NaN   \n",
       "32460086                                                NaN   \n",
       "32459513                                                NaN   \n",
       "...                                                     ...   \n",
       "13106716                                                NaN   \n",
       "13106715                                                NaN   \n",
       "13106714                                                NaN   \n",
       "14832406                                                NaN   \n",
       "14824402                                                NaN   \n",
       "\n",
       "                                                   keywords Extracted  \\\n",
       "32460418  [CNS development, chromatin remodelers, oligod...         1   \n",
       "32460167  [Biomarker, Multiple sclerosis, Neurofilament ...       NaN   \n",
       "32460145  [Clinical trial, Cognition, Cognitive rehabili...       NaN   \n",
       "32460086  [B-cell depleting therapies, COVID-19, DMTs, M...       NaN   \n",
       "32459513  [Alzheimer’s disease, Parkinson’s disease, gut...       NaN   \n",
       "...                                                     ...       ...   \n",
       "13106716                  [MULTIPLE SCLEROSIS/epidemiology]       NaN   \n",
       "13106715                           [ALLERGY/manifestations]       NaN   \n",
       "13106714  [HISTAMINE/therapeutic use, MULTIPLE SCLEROSIS...       NaN   \n",
       "14832406           [CEREBROSPINAL FLUID, ENCEPHALOMYELITIS]       NaN   \n",
       "14824402                               [ENZYMES, SCLEROSIS]       NaN   \n",
       "\n",
       "                                                     abskey  \n",
       "32460418  [CNS development, oligodendrogenesis, transcri...  \n",
       "32460167                                                NaN  \n",
       "32460145                                                NaN  \n",
       "32460086                                                NaN  \n",
       "32459513                                                NaN  \n",
       "...                                                     ...  \n",
       "13106716                                                NaN  \n",
       "13106715                                                NaN  \n",
       "13106714                                                NaN  \n",
       "14832406                                                NaN  \n",
       "14824402                                                NaN  \n",
       "\n",
       "[20960 rows x 5 columns]"
      ]
     },
     "execution_count": 13,
     "metadata": {},
     "output_type": "execute_result"
    }
   ],
   "source": [
    "dataf"
   ]
  },
  {
   "cell_type": "code",
   "execution_count": 25,
   "metadata": {},
   "outputs": [
    {
     "data": {
      "text/plain": [
       "['CNS development',\n",
       " 'chromatin remodelers',\n",
       " 'oligodendrogenesis',\n",
       " 'transcription factors',\n",
       " 'transcription regulation']"
      ]
     },
     "execution_count": 25,
     "metadata": {},
     "output_type": "execute_result"
    }
   ],
   "source": [
    "dataf.loc['32460418'].keywords"
   ]
  },
  {
   "cell_type": "code",
   "execution_count": 18,
   "metadata": {},
   "outputs": [],
   "source": [
    "dataf.to_pickle(\"/home/pding/OneDrive/kph/processed2.pkl\")"
   ]
  },
  {
   "cell_type": "code",
   "execution_count": 210,
   "metadata": {},
   "outputs": [],
   "source": [
    "dataf.to_pickle(\"./processed.pkl\")"
   ]
  },
  {
   "cell_type": "code",
   "execution_count": 200,
   "metadata": {},
   "outputs": [],
   "source": [
    "patterns = [svoc.make_doc(str(name)) for name in t0.keywords ]"
   ]
  },
  {
   "cell_type": "code",
   "execution_count": 190,
   "metadata": {},
   "outputs": [
    {
     "name": "stdout",
     "output_type": "stream",
     "text": [
      "184\n",
      "treatment-sequencing model\n",
      "184\n",
      "relapsing-remitting multiple sclerosis\n",
      "184\n",
      "health technology assessment\n",
      "184\n",
      "health technology assessment\n",
      "184\n",
      "relapsing-remitting multiple sclerosis\n",
      "184\n",
      "treatment-sequencing model\n",
      "184\n",
      "treatment-sequencing model\n",
      "184\n",
      "treatment-sequencing model\n"
     ]
    }
   ],
   "source": [
    "t0 = dataf.loc[pmid]\n",
    "patterns = [svoc.make_doc(name) for name in t0.keywords ]\n",
    "#matcher = PhraseMatcher(svoc.vocab, attr=\"LOWER\")\n",
    "matcher.add(\"Names\", None, *patterns)\n",
    "doc = svoc(t0.SRC)\n",
    "t1 = ['O']*(len(doc))\n",
    "matched = []\n",
    "matn = 0\n",
    "for _, start, end in matcher(doc):\n",
    "    t1[start] = 'B'\n",
    "    t1[start+1:end] = 'I'*(end-start-1)\n",
    "    print(len(t1))\n",
    "    print(doc[start:end])\n",
    "    if str(doc[start:end]).lower() not in matched:\n",
    "        matn = matn+1\n",
    "        matched.append(str(doc[start:end]).lower())\n",
    "dataf.loc[pmid,'TRG'] = ' '.join([t for t in t1])\n",
    "dataf.loc[pmid,'ext perc'] = matn\n",
    "matcher.remove(\"Names\")"
   ]
  },
  {
   "cell_type": "code",
   "execution_count": 191,
   "metadata": {},
   "outputs": [
    {
     "data": {
      "text/plain": [
       "'O O O O O B I I I O B I I I I O O B I I O O O B I I O O O O O O O O O O O O O O O O O O B I I I I O O O O O O O O O O O O O O O O O O O O O O O O O O O O O O O O O O O O O O O O O O O O O O O O O O O O O O O O O O O O O O O O O O O B I I I O O O O O O O O O O O O O O O O O O O O O O O O O B I I I O O O O O O O O O O O O O O O O O O O O O O O O O B I I I O O O O O O'"
      ]
     },
     "execution_count": 191,
     "metadata": {},
     "output_type": "execute_result"
    }
   ],
   "source": [
    "' '.join([t for t in t1])"
   ]
  },
  {
   "cell_type": "code",
   "execution_count": 185,
   "metadata": {},
   "outputs": [],
   "source": [
    "t0 = dataf.loc[pmid]\n",
    "patterns = [svoc.make_doc(name) for name in t0.keywords ]\n",
    "#matcher = PhraseMatcher(svoc.vocab, attr=\"LOWER\")\n",
    "matcher.add(\"Names\", None, *patterns)\n",
    "doc = svoc(t0.SRC)\n",
    "t1 = ['O']*(len(doc))\n",
    "matched = []\n",
    "matn = 0"
   ]
  },
  {
   "cell_type": "code",
   "execution_count": 187,
   "metadata": {},
   "outputs": [
    {
     "data": {
      "text/plain": [
       "184"
      ]
     },
     "execution_count": 187,
     "metadata": {},
     "output_type": "execute_result"
    }
   ],
   "source": [
    "len(doc)"
   ]
  },
  {
   "cell_type": "code",
   "execution_count": 178,
   "metadata": {},
   "outputs": [
    {
     "data": {
      "text/plain": [
       "['Alzheimer’s disease',\n",
       " 'Parkinson’s disease',\n",
       " 'gut dysbiosis',\n",
       " 'gut microbiome',\n",
       " 'neuro-resilience',\n",
       " 'neurodegenerative disorders',\n",
       " 'polyphenols',\n",
       " 'probiotics',\n",
       " 'synbiotics']"
      ]
     },
     "execution_count": 178,
     "metadata": {},
     "output_type": "execute_result"
    }
   ],
   "source": [
    "t0.keywords"
   ]
  },
  {
   "cell_type": "code",
   "execution_count": 177,
   "metadata": {},
   "outputs": [
    {
     "data": {
      "text/plain": [
       "5"
      ]
     },
     "execution_count": 177,
     "metadata": {},
     "output_type": "execute_result"
    }
   ],
   "source": [
    "matn"
   ]
  },
  {
   "cell_type": "code",
   "execution_count": null,
   "metadata": {},
   "outputs": [],
   "source": [
    "for match_id, start, end in matcher(doc):\n",
    "    print(\"Matched based on lowercase token text:\", doc[start:end])"
   ]
  },
  {
   "cell_type": "code",
   "execution_count": 151,
   "metadata": {},
   "outputs": [
    {
     "name": "stdout",
     "output_type": "stream",
     "text": [
      "treatment-sequencing model\n",
      "relapsing-remitting multiple sclerosis\n",
      "health technology assessment\n",
      "health technology assessment\n",
      "relapsing-remitting multiple sclerosis\n",
      "treatment-sequencing model\n",
      "treatment-sequencing model\n"
     ]
    },
    {
     "ename": "IndexError",
     "evalue": "list assignment index out of range",
     "output_type": "error",
     "traceback": [
      "\u001b[0;31m---------------------------------------------------------------------------\u001b[0m",
      "\u001b[0;31mIndexError\u001b[0m                                Traceback (most recent call last)",
      "\u001b[0;32m<ipython-input-151-aeaf6cbdcc25>\u001b[0m in \u001b[0;36m<module>\u001b[0;34m\u001b[0m\n\u001b[1;32m      1\u001b[0m \u001b[0;32mfor\u001b[0m \u001b[0m_\u001b[0m\u001b[0;34m,\u001b[0m \u001b[0mstart\u001b[0m\u001b[0;34m,\u001b[0m \u001b[0mend\u001b[0m \u001b[0;32min\u001b[0m \u001b[0mmatcher\u001b[0m\u001b[0;34m(\u001b[0m\u001b[0mdoc\u001b[0m\u001b[0;34m)\u001b[0m\u001b[0;34m:\u001b[0m\u001b[0;34m\u001b[0m\u001b[0;34m\u001b[0m\u001b[0m\n\u001b[0;32m----> 2\u001b[0;31m     \u001b[0mt1\u001b[0m\u001b[0;34m[\u001b[0m\u001b[0mstart\u001b[0m\u001b[0;34m]\u001b[0m \u001b[0;34m=\u001b[0m \u001b[0;34m'B'\u001b[0m\u001b[0;34m\u001b[0m\u001b[0;34m\u001b[0m\u001b[0m\n\u001b[0m\u001b[1;32m      3\u001b[0m     \u001b[0mt1\u001b[0m\u001b[0;34m[\u001b[0m\u001b[0mstart\u001b[0m\u001b[0;34m+\u001b[0m\u001b[0;36m1\u001b[0m\u001b[0;34m:\u001b[0m\u001b[0mend\u001b[0m\u001b[0;34m]\u001b[0m \u001b[0;34m=\u001b[0m \u001b[0;34m'I'\u001b[0m\u001b[0;34m\u001b[0m\u001b[0;34m\u001b[0m\u001b[0m\n\u001b[1;32m      4\u001b[0m     \u001b[0mprint\u001b[0m\u001b[0;34m(\u001b[0m\u001b[0mdoc\u001b[0m\u001b[0;34m[\u001b[0m\u001b[0mstart\u001b[0m\u001b[0;34m:\u001b[0m\u001b[0mend\u001b[0m\u001b[0;34m]\u001b[0m\u001b[0;34m)\u001b[0m\u001b[0;34m\u001b[0m\u001b[0;34m\u001b[0m\u001b[0m\n\u001b[1;32m      5\u001b[0m     \u001b[0;32mif\u001b[0m \u001b[0mmatched\u001b[0m \u001b[0;34m!=\u001b[0m \u001b[0mstr\u001b[0m\u001b[0;34m(\u001b[0m\u001b[0mdoc\u001b[0m\u001b[0;34m[\u001b[0m\u001b[0mstart\u001b[0m\u001b[0;34m:\u001b[0m\u001b[0mend\u001b[0m\u001b[0;34m]\u001b[0m\u001b[0;34m)\u001b[0m\u001b[0;34m.\u001b[0m\u001b[0mlower\u001b[0m\u001b[0;34m(\u001b[0m\u001b[0;34m)\u001b[0m\u001b[0;34m:\u001b[0m\u001b[0;34m\u001b[0m\u001b[0;34m\u001b[0m\u001b[0m\n",
      "\u001b[0;31mIndexError\u001b[0m: list assignment index out of range"
     ]
    }
   ],
   "source": [
    "for _, start, end in matcher(doc):\n",
    "    t1[start] = 'B'\n",
    "    t1[start+1:end] = 'I'\n",
    "    print(doc[start:end])\n",
    "    if matched != str(doc[start:end]).lower():\n",
    "        matn = matn+1\n",
    "        matched = str(doc[start:end]).lower()"
   ]
  },
  {
   "cell_type": "code",
   "execution_count": 126,
   "metadata": {},
   "outputs": [
    {
     "name": "stdout",
     "output_type": "stream",
     "text": [
      "Chromatin remodelers\n",
      "chromatin remodelers\n"
     ]
    }
   ],
   "source": [
    "test0 = dataf.iloc[0]\n",
    "patterns = [svoc.make_doc(name) for name in test0.keywords ]\n",
    "matcher.add(\"Names\", None, *patterns)\n",
    "doc = svoc(test0.SRC)\n",
    "t1 = ['O']*len(doc)\n",
    "matched = [None]\n",
    "matn = 0\n",
    "for _, start, end in matcher(doc):\n",
    "    t1[start] = 'B'\n",
    "    t1[start+1:end] = 'I'\n",
    "    print(doc[start:end])\n",
    "    if matched != str(doc[start:end]).lower():\n",
    "        matn = matn+1\n",
    "        matched = str(doc[start:end]).lower()\n",
    "dataf.loc[pmid,'TRG'] = ' '.join([t for t in t1])\n",
    "dataf.loc[pmid,'ext perc'] = matn"
   ]
  },
  {
   "cell_type": "code",
   "execution_count": 131,
   "metadata": {},
   "outputs": [
    {
     "data": {
      "text/plain": [
       "'B I O O O O O O O O O O O O O O O O O O O O O O O O O O O O O O O O O O O O O O O O O O O O O O O O O O O O O O O O O O O O O O O O O O O O O O O O O O O O O O O O O O O O O O O O O O O O O O O O O O O O O O O O O O O O B I O O O O O O O O O O O O O O O O O O O O O O O O O O O O O O O O O O O O O O O O O O O O O O'"
      ]
     },
     "execution_count": 131,
     "metadata": {},
     "output_type": "execute_result"
    }
   ],
   "source": [
    "' '.join([t for t in t1])"
   ]
  },
  {
   "cell_type": "code",
   "execution_count": 119,
   "metadata": {},
   "outputs": [
    {
     "data": {
      "text/plain": [
       "['CNS development',\n",
       " 'chromatin remodelers',\n",
       " 'oligodendrogenesis',\n",
       " 'transcription factors',\n",
       " 'transcription regulation']"
      ]
     },
     "execution_count": 119,
     "metadata": {},
     "output_type": "execute_result"
    }
   ],
   "source": [
    "test0.keywords"
   ]
  },
  {
   "cell_type": "code",
   "execution_count": 114,
   "metadata": {},
   "outputs": [
    {
     "data": {
      "text/plain": [
       "spacy.tokens.span.Span"
      ]
     },
     "execution_count": 114,
     "metadata": {},
     "output_type": "execute_result"
    }
   ],
   "source": [
    "type(doc[start:end])"
   ]
  },
  {
   "cell_type": "code",
   "execution_count": 107,
   "metadata": {},
   "outputs": [
    {
     "data": {
      "text/plain": [
       "SRC         Chromatin remodelers in oligodendroglia. Oligo...\n",
       "TRG                                                       NaN\n",
       "keywords    [CNS development, chromatin remodelers, oligod...\n",
       "ext perc                                                  NaN\n",
       "Name: 32460418, dtype: object"
      ]
     },
     "execution_count": 107,
     "metadata": {},
     "output_type": "execute_result"
    }
   ],
   "source": [
    "test0"
   ]
  },
  {
   "cell_type": "code",
   "execution_count": 97,
   "metadata": {},
   "outputs": [],
   "source": []
  },
  {
   "cell_type": "code",
   "execution_count": null,
   "metadata": {},
   "outputs": [],
   "source": [
    "# combine title and abstract"
   ]
  },
  {
   "cell_type": "code",
   "execution_count": 52,
   "metadata": {},
   "outputs": [],
   "source": [
    "matcher = PhraseMatcher(svoc.vocab, attr=\"LOWER\")"
   ]
  },
  {
   "cell_type": "code",
   "execution_count": 66,
   "metadata": {},
   "outputs": [
    {
     "name": "stdout",
     "output_type": "stream",
     "text": [
      "Matched based on lowercase token text: angela merkel\n",
      "Matched based on lowercase token text: barack Obama\n",
      "Matched based on lowercase token text: N.Y.\n"
     ]
    }
   ],
   "source": [
    "patterns = [svoc.make_doc(name) for name in [\"Angela Merkel\", \"Barack Obama\", \"N.Y.\"]]\n",
    "matcher.add(\"Names\", None, *patterns)\n",
    "\n",
    "doc = svoc(\"angela merkel and us president barack Obama in N.Y.\")\n",
    "for match_id, start, end in matcher(doc):\n",
    "    print(\"Matched based on lowercase token text:\", doc[start:end])"
   ]
  },
  {
   "cell_type": "code",
   "execution_count": 92,
   "metadata": {},
   "outputs": [],
   "source": [
    "doc2 = ['I']*len(doc)"
   ]
  },
  {
   "cell_type": "code",
   "execution_count": 93,
   "metadata": {},
   "outputs": [
    {
     "data": {
      "text/plain": [
       "['I', 'I', 'I', 'I', 'I', 'I', 'I', 'I', 'I']"
      ]
     },
     "execution_count": 93,
     "metadata": {},
     "output_type": "execute_result"
    }
   ],
   "source": [
    "doc2"
   ]
  },
  {
   "cell_type": "code",
   "execution_count": null,
   "metadata": {},
   "outputs": [],
   "source": [
    "sp = spacy.load('en_core_web_sm')"
   ]
  },
  {
   "cell_type": "code",
   "execution_count": 57,
   "metadata": {},
   "outputs": [
    {
     "data": {
      "text/plain": [
       "[(10631222085860127603, 0, 2),\n",
       " (10631222085860127603, 5, 7),\n",
       " (10631222085860127603, 8, 9)]"
      ]
     },
     "execution_count": 57,
     "metadata": {},
     "output_type": "execute_result"
    }
   ],
   "source": [
    "matcher(doc)"
   ]
  },
  {
   "cell_type": "code",
   "execution_count": 74,
   "metadata": {},
   "outputs": [],
   "source": [
    "from torchtext.data import Field, BucketIterator"
   ]
  },
  {
   "cell_type": "code",
   "execution_count": null,
   "metadata": {},
   "outputs": [],
   "source": [
    "SRC = Field()"
   ]
  }
 ],
 "metadata": {
  "kernelspec": {
   "display_name": "kph2",
   "language": "python",
   "name": "kph2"
  },
  "language_info": {
   "codemirror_mode": {
    "name": "ipython",
    "version": 3
   },
   "file_extension": ".py",
   "mimetype": "text/x-python",
   "name": "python",
   "nbconvert_exporter": "python",
   "pygments_lexer": "ipython3",
   "version": "3.8.3"
  }
 },
 "nbformat": 4,
 "nbformat_minor": 4
}
