{
 "cells": [
  {
   "cell_type": "code",
   "execution_count": 1,
   "metadata": {},
   "outputs": [],
   "source": [
    "import torch\n",
    "from torch import nn\n",
    "import time\n",
    "import torchtext\n",
    "import numpy as np\n",
    "\n",
    "import random\n",
    "\n",
    "from collections import defaultdict, Counter\n",
    "\n",
    "import matplotlib.pyplot as plt\n",
    "\n",
    "%config InlineBackend.figure_format = 'retina' \n",
    "plt.style.use('seaborn')\n",
    "\n",
    "import pandas as pd\n",
    "import spacy\n",
    "import en_core_web_sm\n",
    "svoc = spacy.load(\"en_core_web_sm\")"
   ]
  },
  {
   "cell_type": "code",
   "execution_count": 2,
   "metadata": {},
   "outputs": [],
   "source": [
    "datao = pd.read_pickle(\"~/OneDrive/kph/processed2.pkl\")\n",
    "datatrain = datao[datao['ext perc']>=3]\n",
    "datatest = datao[datao['ext perc']<3]\n",
    "# separate train and validate \n",
    "VAL_RATIO = 0.2\n",
    "dtrain = datatrain.loc[:,['SRC','TRG']]\n",
    "dtraink = datatrain.loc[:,['SRC','TRG','keywords','ext perc']]\n",
    "seed=250\n",
    "idx = np.arange(datatrain.shape[0])\n",
    "np.random.seed(seed)\n",
    "np.random.shuffle(idx)\n",
    "val_size = int(len(idx) * VAL_RATIO)\n",
    "df_train = dtrain.iloc[idx[val_size:], :]\n",
    "df_val = dtrain.iloc[idx[:val_size], :]\n",
    "df_val_k = dtraink.iloc[idx[:val_size], :]\n",
    "df_test = datatest.loc[:,['SRC','TRG']]"
   ]
  },
  {
   "cell_type": "code",
   "execution_count": 278,
   "metadata": {},
   "outputs": [],
   "source": [
    "datai = pd.read_json('/home/pding/OneDrive/kph/fullmsy.json', orient='index', convert_dates=False, convert_axes=False)"
   ]
  },
  {
   "cell_type": "code",
   "execution_count": 279,
   "metadata": {},
   "outputs": [],
   "source": [
    "datai = datai[datai.abstract.notnull()]\n",
    "datai = datai[datai.title.notnull()]"
   ]
  },
  {
   "cell_type": "code",
   "execution_count": 254,
   "metadata": {},
   "outputs": [],
   "source": [
    "datai = datai.replace('\\n',' ', regex=True)\n",
    "datai = datai.replace('\\t',' ', regex=True)"
   ]
  },
  {
   "cell_type": "code",
   "execution_count": 256,
   "metadata": {},
   "outputs": [],
   "source": [
    "dataiu = datai.loc[datai.keywords.str.len() ==0]"
   ]
  },
  {
   "cell_type": "code",
   "execution_count": 257,
   "metadata": {},
   "outputs": [],
   "source": [
    "dataik = datai.loc[datai.keywords.str.len() >0]"
   ]
  },
  {
   "cell_type": "code",
   "execution_count": 258,
   "metadata": {},
   "outputs": [
    {
     "name": "stderr",
     "output_type": "stream",
     "text": [
      "<ipython-input-258-bd5bf85773e8>:1: SettingWithCopyWarning: \n",
      "A value is trying to be set on a copy of a slice from a DataFrame.\n",
      "Try using .loc[row_indexer,col_indexer] = value instead\n",
      "\n",
      "See the caveats in the documentation: https://pandas.pydata.org/pandas-docs/stable/user_guide/indexing.html#returning-a-view-versus-a-copy\n",
      "  dataiu['SRC'] = dataiu.title + ' '+ dataiu.abstract\n"
     ]
    }
   ],
   "source": [
    "dataiu['SRC'] = dataiu.title + ' '+ dataiu.abstract"
   ]
  },
  {
   "cell_type": "code",
   "execution_count": 9,
   "metadata": {},
   "outputs": [],
   "source": [
    "tokenizertrg = lambda x: x.split()\n",
    "def tokenizersrc(text): # create a tokenizer function\n",
    "    return [tok.text for tok in svoc.tokenizer(text)]\n",
    "def read_data(df_train, datafields):\n",
    "    examples = []\n",
    "    words = []\n",
    "    labels = []\n",
    "    for pmid in df_train.index:\n",
    "        words = tokenizersrc(df_train.loc[pmid,'SRC'])\n",
    "        labels = tokenizertrg(df_train.loc[pmid,'TRG'])\n",
    "        examples.append(torchtext.data.Example.fromlist([words, labels], datafields))\n",
    "    return torchtext.data.Dataset(examples, datafields)"
   ]
  },
  {
   "cell_type": "code",
   "execution_count": 10,
   "metadata": {},
   "outputs": [],
   "source": [
    "from torchcrf import CRF\n",
    "\n",
    "class RNNCRFTagger(nn.Module):\n",
    "    \n",
    "    def __init__(self, text_field, label_field, emb_dim, rnn_size, update_pretrained=False):\n",
    "        super().__init__()\n",
    "        \n",
    "        voc_size = len(text_field.vocab)\n",
    "        self.n_labels = len(label_field.vocab)       \n",
    "        \n",
    "        self.embedding = nn.Embedding(voc_size, emb_dim)\n",
    "        if text_field.vocab.vectors is not None:\n",
    "            self.embedding.weight = torch.nn.Parameter(text_field.vocab.vectors, \n",
    "                                                       requires_grad=update_pretrained)\n",
    "\n",
    "        self.rnn = nn.LSTM(input_size=emb_dim, hidden_size=rnn_size, \n",
    "                          bidirectional=True, num_layers=1)\n",
    "\n",
    "        self.top_layer = nn.Linear(2*rnn_size, self.n_labels)\n",
    " \n",
    "        self.pad_word_id = text_field.vocab.stoi[text_field.pad_token]\n",
    "        self.pad_label_id = label_field.vocab.stoi[label_field.pad_token]\n",
    "    \n",
    "        self.crf = CRF(self.n_labels)\n",
    "#        self.crf = ConditionalRandomField(self.n_labels, label_encoding=\"BIO\",\n",
    "#                                          idx2tag=text_field.vocab.itos\n",
    "#                                         )\n",
    "    def compute_outputs(self, sentences):\n",
    "        embedded = self.embedding(sentences)\n",
    "        rnn_out, _ = self.rnn(embedded)\n",
    "        out = self.top_layer(rnn_out)\n",
    "        return out\n",
    "                \n",
    "    def forward(self, sentences, labels):\n",
    "        # Compute the outputs of the lower layers, which will be used as emission\n",
    "        # scores for the CRF.\n",
    "        scores = self.compute_outputs(sentences)\n",
    "        mask0 = sentences != self.pad_word_id\n",
    "        mask = mask0.byte()\n",
    "        # We return the loss value. The CRF returns the log likelihood, but we return \n",
    "        # the *negative* log likelihood as the loss value.            \n",
    "        # PyTorch's optimizers *minimize* the loss, while we want to *maximize* the\n",
    "        # log likelihood.\n",
    "        return -self.crf(scores, labels, mask=mask)\n",
    "            \n",
    "    def predict(self, sentences):\n",
    "        # Compute the emission scores, as above.\n",
    "        scores = self.compute_outputs(sentences)\n",
    "        mask0 = sentences != self.pad_word_id\n",
    "        mask = mask0.byte()\n",
    "        # Apply the Viterbi algorithm to get the predictions. This implementation returns\n",
    "        # the result as a list of lists (not a tensor), corresponding to a matrix\n",
    "        # of shape (n_sentences, max_len).\n",
    "        return self.crf.decode(scores, mask=mask)\n"
   ]
  },
  {
   "cell_type": "code",
   "execution_count": 11,
   "metadata": {},
   "outputs": [
    {
     "name": "stdout",
     "output_type": "stream",
     "text": [
      "We are training word embeddings from scratch.\n"
     ]
    },
    {
     "data": {
      "text/plain": [
       "RNNCRFTagger(\n",
       "  (embedding): Embedding(72288, 200)\n",
       "  (rnn): LSTM(200, 85, bidirectional=True)\n",
       "  (top_layer): Linear(in_features=170, out_features=6, bias=True)\n",
       "  (crf): CRF(num_tags=6)\n",
       ")"
      ]
     },
     "execution_count": 11,
     "metadata": {},
     "output_type": "execute_result"
    }
   ],
   "source": [
    "TEXT = torchtext.data.Field(init_token='<bos>', eos_token='<eos>', sequential=True, lower=False)\n",
    "LABEL = torchtext.data.Field(init_token='<bos>', eos_token='<eos>', sequential=True, unk_token=None)\n",
    "fields = [('text', TEXT), ('label', LABEL)]\n",
    "device = 'cuda'\n",
    "use_pretrained = False\n",
    "train_examples = read_data(df_train, fields)\n",
    "valid_examples = read_data(df_val, fields)\n",
    "# Load the pre-trained embeddings that come with the torchtext library.\n",
    "if use_pretrained:\n",
    "    print('We are using pre-trained word embeddings.')\n",
    "    TEXT.build_vocab(train_examples, vectors=embvec)\n",
    "else:  \n",
    "    print('We are training word embeddings from scratch.')\n",
    "    TEXT.build_vocab(train_examples, max_size=80000)\n",
    "LABEL.build_vocab(train_examples)\n",
    "# Create one of the models defined above.\n",
    "#self.model = RNNTagger(self.TEXT, self.LABEL, emb_dim=300, rnn_size=128, update_pretrained=False)\n",
    "model0 = RNNCRFTagger(TEXT, LABEL, emb_dim=200, rnn_size=85, update_pretrained=False)\n",
    "\n",
    "model0.to(device)"
   ]
  },
  {
   "cell_type": "code",
   "execution_count": 12,
   "metadata": {},
   "outputs": [
    {
     "data": {
      "text/plain": [
       "<All keys matched successfully>"
      ]
     },
     "execution_count": 12,
     "metadata": {},
     "output_type": "execute_result"
    }
   ],
   "source": [
    "model0.load_state_dict(torch.load('/home/pding/OneDrive/kph/kph/lstm1_85crf_549_wv.pt'))"
   ]
  },
  {
   "cell_type": "code",
   "execution_count": 245,
   "metadata": {},
   "outputs": [],
   "source": [
    "def kphext2(sentences,tags):\n",
    "    kph = []\n",
    "    for i in range(len(sentences)):\n",
    "        s0 = svoc.tokenizer(sentences[i])\n",
    "        s1 = [tok.text for tok in s0]\n",
    "        t1 = tags[i]\n",
    "        k1 = []\n",
    "        for j in range(len(s1)):\n",
    "            start = j\n",
    "            if t1[j] == 'B':\n",
    "                sti = 0\n",
    "                stop = j+1\n",
    "                while sti == 0:\n",
    "                    try: \n",
    "                        kt = str(t1[stop])\n",
    "                        if kt == 'I':\n",
    "                            stop = stop+1\n",
    "                        else:\n",
    "                            k2 = str(s0[start:stop])\n",
    "                            k1.append(k2)\n",
    "                            sti =1\n",
    "                    except(IndexError):\n",
    "                        k2 = str(s0[start:stop])\n",
    "                        k1.append(k2)\n",
    "                        sti =1\n",
    "                k2 = str(s1[j])\n",
    "        kph.append(k1)\n",
    "    return kph"
   ]
  },
  {
   "cell_type": "code",
   "execution_count": 102,
   "metadata": {},
   "outputs": [
    {
     "data": {
      "text/plain": [
       "'cuda'"
      ]
     },
     "execution_count": 102,
     "metadata": {},
     "output_type": "execute_result"
    }
   ],
   "source": [
    "device"
   ]
  },
  {
   "cell_type": "code",
   "execution_count": 48,
   "metadata": {},
   "outputs": [],
   "source": [
    "def evaltest2(df_val, model):\n",
    "    # This method applies the trained model to a list of sentences.\n",
    "    examples = []\n",
    "    for sen in df_val.SRC:\n",
    "        words = tokenizersrc(sen)\n",
    "        labels = ['O']*len(words) # placeholder\n",
    "        examples.append(torchtext.data.Example.fromlist([words, labels], fields))\n",
    "    dataset = torchtext.data.Dataset(examples, fields)\n",
    "\n",
    "    iterator = torchtext.data.Iterator(\n",
    "        dataset,\n",
    "        device=device,\n",
    "        batch_size=300,\n",
    "        repeat=False,\n",
    "        train=False,\n",
    "        sort=False)\n",
    "\n",
    "    # Apply the trained model to all batches.\n",
    "    out = []\n",
    "    model.eval()\n",
    "    for batch in iterator:\n",
    "        # Call the model's predict method. This returns a list of NumPy matrix\n",
    "        # containing the integer-encoded tags for each sentence.\n",
    "        predicted = model.predict(batch.text)\n",
    "\n",
    "        # Convert the integer-encoded tags to tag strings.\n",
    "        #for tokens, pred_sen in zip(sentences, predicted):\n",
    "        for pred_sen in predicted:\n",
    "            out.append([LABEL.vocab.itos[pred_id] for  pred_id in  pred_sen[1:-1]])\n",
    "    return out"
   ]
  },
  {
   "cell_type": "code",
   "execution_count": 49,
   "metadata": {},
   "outputs": [],
   "source": [
    "augout = evaltest2(dataiu,model0)"
   ]
  },
  {
   "cell_type": "code",
   "execution_count": 246,
   "metadata": {},
   "outputs": [],
   "source": [
    "klist = kphext2(dataiu.SRC,augout)"
   ]
  },
  {
   "cell_type": "code",
   "execution_count": null,
   "metadata": {},
   "outputs": [],
   "source": []
  },
  {
   "cell_type": "code",
   "execution_count": 260,
   "metadata": {},
   "outputs": [],
   "source": [
    "for i in range(len(dataiu.index)):\n",
    "    dataiu.iloc[i,2].extend(list(set(klist[i])))"
   ]
  },
  {
   "cell_type": "code",
   "execution_count": 262,
   "metadata": {},
   "outputs": [],
   "source": [
    "output = pd.concat([dataik,dataiu], join=\"inner\")"
   ]
  },
  {
   "cell_type": "code",
   "execution_count": 281,
   "metadata": {},
   "outputs": [],
   "source": [
    "output.to_json('/home/pding/OneDrive/kph/MSaug.json', orient='index')"
   ]
  },
  {
   "cell_type": "code",
   "execution_count": 283,
   "metadata": {},
   "outputs": [],
   "source": [
    "output.to_json('/home/pding/OneDrive/kph/MSaug2.json', orient='records')"
   ]
  },
  {
   "cell_type": "code",
   "execution_count": 282,
   "metadata": {},
   "outputs": [],
   "source": [
    "output.to_pickle(\"/home/pding/OneDrive/kph/msout.pkl\")"
   ]
  },
  {
   "cell_type": "code",
   "execution_count": 176,
   "metadata": {},
   "outputs": [],
   "source": [
    "def safe_value(field_val):\n",
    "    return field_val if not pd.isna(field_val) else \"Other\""
   ]
  },
  {
   "cell_type": "code",
   "execution_count": 204,
   "metadata": {},
   "outputs": [],
   "source": [
    "def safe_year(field_val):\n",
    "    return field_val if not pd.isna(field_val) else 1900"
   ]
  },
  {
   "cell_type": "code",
   "execution_count": 263,
   "metadata": {},
   "outputs": [],
   "source": [
    "output['journal'] = output['journal'].apply(safe_value)\n",
    "output['conclusions'] = output['conclusions'].apply(safe_value)\n",
    "output['pubdate'] = output['pubdate'].apply(safe_year)"
   ]
  },
  {
   "cell_type": "code",
   "execution_count": 264,
   "metadata": {},
   "outputs": [],
   "source": [
    "output['PMID'] = output.index"
   ]
  },
  {
   "cell_type": "code",
   "execution_count": 266,
   "metadata": {},
   "outputs": [
    {
     "data": {
      "text/plain": [
       "title          0\n",
       "abstract       0\n",
       "keywords       0\n",
       "authors        0\n",
       "journal        0\n",
       "pubdate        0\n",
       "conclusions    0\n",
       "PMID           0\n",
       "dtype: int64"
      ]
     },
     "execution_count": 266,
     "metadata": {},
     "output_type": "execute_result"
    }
   ],
   "source": [
    "output.isna().sum()"
   ]
  },
  {
   "cell_type": "code",
   "execution_count": 166,
   "metadata": {},
   "outputs": [],
   "source": [
    "from elasticsearch import Elasticsearch\n",
    "from elasticsearch import helpers"
   ]
  },
  {
   "cell_type": "code",
   "execution_count": 201,
   "metadata": {},
   "outputs": [],
   "source": [
    "test_server = [{'host':'127.0.0.1','port':9200}]"
   ]
  },
  {
   "cell_type": "code",
   "execution_count": 202,
   "metadata": {},
   "outputs": [],
   "source": [
    "es = Elasticsearch(test_server,http_compress=True)"
   ]
  },
  {
   "cell_type": "code",
   "execution_count": 192,
   "metadata": {},
   "outputs": [],
   "source": [
    "use_these_keys = ['PMID', 'title', 'abstract', 'keywords','authors','pubdate']\n",
    "def filterKeys(document):\n",
    "    return {key: document[key] for key in use_these_keys }"
   ]
  },
  {
   "cell_type": "code",
   "execution_count": 272,
   "metadata": {},
   "outputs": [],
   "source": [
    "def doc_generator(df):\n",
    "    df_iter = df.iterrows()\n",
    "    for index, document in df_iter:\n",
    "        try:\n",
    "            yield {\n",
    "                \"_index\": 'ms',\n",
    "                \"_source\": filterKeys(document),\n",
    "            }\n",
    "        except StopIteration:\n",
    "            return"
   ]
  },
  {
   "cell_type": "code",
   "execution_count": 273,
   "metadata": {},
   "outputs": [
    {
     "data": {
      "text/plain": [
       "(72527, [])"
      ]
     },
     "execution_count": 273,
     "metadata": {},
     "output_type": "execute_result"
    }
   ],
   "source": [
    "helpers.bulk(es, doc_generator(output))"
   ]
  },
  {
   "cell_type": "code",
   "execution_count": 274,
   "metadata": {},
   "outputs": [
    {
     "data": {
      "text/html": [
       "<div>\n",
       "<style scoped>\n",
       "    .dataframe tbody tr th:only-of-type {\n",
       "        vertical-align: middle;\n",
       "    }\n",
       "\n",
       "    .dataframe tbody tr th {\n",
       "        vertical-align: top;\n",
       "    }\n",
       "\n",
       "    .dataframe thead th {\n",
       "        text-align: right;\n",
       "    }\n",
       "</style>\n",
       "<table border=\"1\" class=\"dataframe\">\n",
       "  <thead>\n",
       "    <tr style=\"text-align: right;\">\n",
       "      <th></th>\n",
       "      <th>title</th>\n",
       "      <th>abstract</th>\n",
       "      <th>keywords</th>\n",
       "      <th>authors</th>\n",
       "      <th>journal</th>\n",
       "      <th>pubdate</th>\n",
       "      <th>conclusions</th>\n",
       "      <th>PMID</th>\n",
       "    </tr>\n",
       "  </thead>\n",
       "  <tbody>\n",
       "    <tr>\n",
       "      <th>32544864</th>\n",
       "      <td>Evolution of tongue somatosensory evoked poten...</td>\n",
       "      <td>The aim of the present study was to investigat...</td>\n",
       "      <td>[Evoked potentials, Multiple sclerosis, Tongue...</td>\n",
       "      <td>[{'lastname': 'Krbot Skorić', 'firstname': 'Ma...</td>\n",
       "      <td>Multiple sclerosis and related disorders</td>\n",
       "      <td>2020.0</td>\n",
       "      <td>This study demonstrates a significant deterior...</td>\n",
       "      <td>32544864</td>\n",
       "    </tr>\n",
       "    <tr>\n",
       "      <th>32544855</th>\n",
       "      <td>Baseline cerebral metabolism predicts fatigue ...</td>\n",
       "      <td>Cerebral metabolic rate of oxygen (CMRO2), a m...</td>\n",
       "      <td>[Cerebral blood flow, Cognition, Energy metabo...</td>\n",
       "      <td>[{'lastname': 'West', 'firstname': 'Kl', 'init...</td>\n",
       "      <td>NeuroImage. Clinical</td>\n",
       "      <td>2020.0</td>\n",
       "      <td>Altogether, these results suggest that increas...</td>\n",
       "      <td>32544855</td>\n",
       "    </tr>\n",
       "    <tr>\n",
       "      <th>32544469</th>\n",
       "      <td>Changes of immune parameters of T lymphocytes ...</td>\n",
       "      <td>Multiple sclerosis (MS) is an autoimmune disea...</td>\n",
       "      <td>[Bone marrow mesenchymal stem cells, Experimen...</td>\n",
       "      <td>[{'lastname': 'Xin', 'firstname': 'Ying', 'ini...</td>\n",
       "      <td>Immunology letters</td>\n",
       "      <td>2020.0</td>\n",
       "      <td>Other</td>\n",
       "      <td>32544469</td>\n",
       "    </tr>\n",
       "    <tr>\n",
       "      <th>32543727</th>\n",
       "      <td>Epstein Barr virus-immortalized B lymphocytes ...</td>\n",
       "      <td>Multiple sclerosis (MS) is the most common aut...</td>\n",
       "      <td>[Epstein Barr virus, experimental autoimmune e...</td>\n",
       "      <td>[{'lastname': 'Polepole', 'firstname': 'Pascal...</td>\n",
       "      <td>Journal of medical virology</td>\n",
       "      <td>2020.0</td>\n",
       "      <td>Other</td>\n",
       "      <td>32543727</td>\n",
       "    </tr>\n",
       "    <tr>\n",
       "      <th>32543241</th>\n",
       "      <td>An evaluation of dimethyl fumarate for the tre...</td>\n",
       "      <td>In recent years there has been a dramatic rise...</td>\n",
       "      <td>[Dimethyl fumarate, disease modifying therapie...</td>\n",
       "      <td>[{'lastname': 'Valencia-Sanchez', 'firstname':...</td>\n",
       "      <td>Expert opinion on pharmacotherapy</td>\n",
       "      <td>2020.0</td>\n",
       "      <td>Other</td>\n",
       "      <td>32543241</td>\n",
       "    </tr>\n",
       "    <tr>\n",
       "      <th>...</th>\n",
       "      <td>...</td>\n",
       "      <td>...</td>\n",
       "      <td>...</td>\n",
       "      <td>...</td>\n",
       "      <td>...</td>\n",
       "      <td>...</td>\n",
       "      <td>...</td>\n",
       "      <td>...</td>\n",
       "    </tr>\n",
       "    <tr>\n",
       "      <th>4952377</th>\n",
       "      <td>Sclerotic lesions of bone in myeloma.</td>\n",
       "      <td>Osteolytic defects and osteoporosis are common...</td>\n",
       "      <td>[myelofibrosis-myelosclerosis syndrome, myelom...</td>\n",
       "      <td>[{'lastname': 'Langley', 'firstname': 'G R', '...</td>\n",
       "      <td>Canadian Medical Association journal</td>\n",
       "      <td>1966.0</td>\n",
       "      <td>Other</td>\n",
       "      <td>4952377</td>\n",
       "    </tr>\n",
       "    <tr>\n",
       "      <th>5881652</th>\n",
       "      <td>The effect of diet on the fatty acid compositi...</td>\n",
       "      <td>1. Three groups of female rats (8-12 weeks old...</td>\n",
       "      <td>[multiple sclerosis, myelin, fatty acid, oleic...</td>\n",
       "      <td>[{'lastname': 'Rathbone', 'firstname': 'L', 'i...</td>\n",
       "      <td>The Biochemical journal</td>\n",
       "      <td>1965.0</td>\n",
       "      <td>Other</td>\n",
       "      <td>5881652</td>\n",
       "    </tr>\n",
       "    <tr>\n",
       "      <th>5844205</th>\n",
       "      <td>Alpha-amino nitrogen in cerebrospinal fluid an...</td>\n",
       "      <td>The concentration of alpha-amino nitrogen (a m...</td>\n",
       "      <td>[multiple sclerosis, total amino-acids, childr...</td>\n",
       "      <td>[{'lastname': 'Williams', 'firstname': 'E M', ...</td>\n",
       "      <td>Journal of clinical pathology</td>\n",
       "      <td>1965.0</td>\n",
       "      <td>Other</td>\n",
       "      <td>5844205</td>\n",
       "    </tr>\n",
       "    <tr>\n",
       "      <th>5835446</th>\n",
       "      <td>Lipid studies in the blood and brain in multip...</td>\n",
       "      <td>The lipid patterns of plasma, red blood cells,...</td>\n",
       "      <td>[multiple sclerosis, thin-layer, oleic acids, ...</td>\n",
       "      <td>[{'lastname': 'Cumings', 'firstname': 'J N', '...</td>\n",
       "      <td>Journal of clinical pathology</td>\n",
       "      <td>1965.0</td>\n",
       "      <td>Other</td>\n",
       "      <td>5835446</td>\n",
       "    </tr>\n",
       "    <tr>\n",
       "      <th>19777627</th>\n",
       "      <td>The in vivo distribution of tetracyclines in c...</td>\n",
       "      <td>The in vivo distribution of tetracycline in ca...</td>\n",
       "      <td>[canine, process termed edge sclerosis]</td>\n",
       "      <td>[{'lastname': 'HARRIS', 'firstname': 'W H', 'i...</td>\n",
       "      <td>The Journal of bone and joint surgery. America...</td>\n",
       "      <td>1962.0</td>\n",
       "      <td>Other</td>\n",
       "      <td>19777627</td>\n",
       "    </tr>\n",
       "  </tbody>\n",
       "</table>\n",
       "<p>72527 rows × 8 columns</p>\n",
       "</div>"
      ],
      "text/plain": [
       "                                                      title  \\\n",
       "32544864  Evolution of tongue somatosensory evoked poten...   \n",
       "32544855  Baseline cerebral metabolism predicts fatigue ...   \n",
       "32544469  Changes of immune parameters of T lymphocytes ...   \n",
       "32543727  Epstein Barr virus-immortalized B lymphocytes ...   \n",
       "32543241  An evaluation of dimethyl fumarate for the tre...   \n",
       "...                                                     ...   \n",
       "4952377               Sclerotic lesions of bone in myeloma.   \n",
       "5881652   The effect of diet on the fatty acid compositi...   \n",
       "5844205   Alpha-amino nitrogen in cerebrospinal fluid an...   \n",
       "5835446   Lipid studies in the blood and brain in multip...   \n",
       "19777627  The in vivo distribution of tetracyclines in c...   \n",
       "\n",
       "                                                   abstract  \\\n",
       "32544864  The aim of the present study was to investigat...   \n",
       "32544855  Cerebral metabolic rate of oxygen (CMRO2), a m...   \n",
       "32544469  Multiple sclerosis (MS) is an autoimmune disea...   \n",
       "32543727  Multiple sclerosis (MS) is the most common aut...   \n",
       "32543241  In recent years there has been a dramatic rise...   \n",
       "...                                                     ...   \n",
       "4952377   Osteolytic defects and osteoporosis are common...   \n",
       "5881652   1. Three groups of female rats (8-12 weeks old...   \n",
       "5844205   The concentration of alpha-amino nitrogen (a m...   \n",
       "5835446   The lipid patterns of plasma, red blood cells,...   \n",
       "19777627  The in vivo distribution of tetracycline in ca...   \n",
       "\n",
       "                                                   keywords  \\\n",
       "32544864  [Evoked potentials, Multiple sclerosis, Tongue...   \n",
       "32544855  [Cerebral blood flow, Cognition, Energy metabo...   \n",
       "32544469  [Bone marrow mesenchymal stem cells, Experimen...   \n",
       "32543727  [Epstein Barr virus, experimental autoimmune e...   \n",
       "32543241  [Dimethyl fumarate, disease modifying therapie...   \n",
       "...                                                     ...   \n",
       "4952377   [myelofibrosis-myelosclerosis syndrome, myelom...   \n",
       "5881652   [multiple sclerosis, myelin, fatty acid, oleic...   \n",
       "5844205   [multiple sclerosis, total amino-acids, childr...   \n",
       "5835446   [multiple sclerosis, thin-layer, oleic acids, ...   \n",
       "19777627            [canine, process termed edge sclerosis]   \n",
       "\n",
       "                                                    authors  \\\n",
       "32544864  [{'lastname': 'Krbot Skorić', 'firstname': 'Ma...   \n",
       "32544855  [{'lastname': 'West', 'firstname': 'Kl', 'init...   \n",
       "32544469  [{'lastname': 'Xin', 'firstname': 'Ying', 'ini...   \n",
       "32543727  [{'lastname': 'Polepole', 'firstname': 'Pascal...   \n",
       "32543241  [{'lastname': 'Valencia-Sanchez', 'firstname':...   \n",
       "...                                                     ...   \n",
       "4952377   [{'lastname': 'Langley', 'firstname': 'G R', '...   \n",
       "5881652   [{'lastname': 'Rathbone', 'firstname': 'L', 'i...   \n",
       "5844205   [{'lastname': 'Williams', 'firstname': 'E M', ...   \n",
       "5835446   [{'lastname': 'Cumings', 'firstname': 'J N', '...   \n",
       "19777627  [{'lastname': 'HARRIS', 'firstname': 'W H', 'i...   \n",
       "\n",
       "                                                    journal  pubdate  \\\n",
       "32544864           Multiple sclerosis and related disorders   2020.0   \n",
       "32544855                               NeuroImage. Clinical   2020.0   \n",
       "32544469                                 Immunology letters   2020.0   \n",
       "32543727                        Journal of medical virology   2020.0   \n",
       "32543241                  Expert opinion on pharmacotherapy   2020.0   \n",
       "...                                                     ...      ...   \n",
       "4952377                Canadian Medical Association journal   1966.0   \n",
       "5881652                             The Biochemical journal   1965.0   \n",
       "5844205                       Journal of clinical pathology   1965.0   \n",
       "5835446                       Journal of clinical pathology   1965.0   \n",
       "19777627  The Journal of bone and joint surgery. America...   1962.0   \n",
       "\n",
       "                                                conclusions      PMID  \n",
       "32544864  This study demonstrates a significant deterior...  32544864  \n",
       "32544855  Altogether, these results suggest that increas...  32544855  \n",
       "32544469                                              Other  32544469  \n",
       "32543727                                              Other  32543727  \n",
       "32543241                                              Other  32543241  \n",
       "...                                                     ...       ...  \n",
       "4952377                                               Other   4952377  \n",
       "5881652                                               Other   5881652  \n",
       "5844205                                               Other   5844205  \n",
       "5835446                                               Other   5835446  \n",
       "19777627                                              Other  19777627  \n",
       "\n",
       "[72527 rows x 8 columns]"
      ]
     },
     "execution_count": 274,
     "metadata": {},
     "output_type": "execute_result"
    }
   ],
   "source": [
    "output"
   ]
  }
 ],
 "metadata": {
  "kernelspec": {
   "display_name": "kph2",
   "language": "python",
   "name": "kph2"
  },
  "language_info": {
   "codemirror_mode": {
    "name": "ipython",
    "version": 3
   },
   "file_extension": ".py",
   "mimetype": "text/x-python",
   "name": "python",
   "nbconvert_exporter": "python",
   "pygments_lexer": "ipython3",
   "version": "3.8.3"
  }
 },
 "nbformat": 4,
 "nbformat_minor": 4
}
