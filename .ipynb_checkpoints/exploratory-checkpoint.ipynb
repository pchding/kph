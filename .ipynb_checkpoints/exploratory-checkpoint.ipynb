{
 "cells": [
  {
   "cell_type": "code",
   "execution_count": 1,
   "metadata": {},
   "outputs": [],
   "source": [
    "\n",
    "import json\n",
    "\n",
    "with open('fullms.json') as f:\n",
    "  data = json.load(f)"
   ]
  },
  {
   "cell_type": "code",
   "execution_count": 4,
   "metadata": {},
   "outputs": [
    {
     "data": {
      "text/plain": [
       "88957"
      ]
     },
     "execution_count": 4,
     "metadata": {},
     "output_type": "execute_result"
    }
   ],
   "source": [
    "len(data)"
   ]
  },
  {
   "cell_type": "code",
   "execution_count": 10,
   "metadata": {
    "collapsed": true,
    "jupyter": {
     "outputs_hidden": true
    }
   },
   "outputs": [
    {
     "data": {
      "text/plain": [
       "{'title': 'Antiviral, Immunomodulatory and Antiproliferative Activities of Recombinant Soluble IFNAR2 without IFN-ß Mediation.',\n",
       " 'abstract': 'Soluble receptors of cytokines are able to modify cytokine activities and therefore the immune system, and some have intrinsic biological activities without mediation from their cytokines. The soluble interferon beta (IFN-ß) receptor is generated through alternative splicing of IFNAR2 and has both agonist and antagonist properties for IFN-ß, but its role is unknown. We previously demonstrated that a recombinant human soluble IFN-ß receptor showed intrinsic therapeutic efficacy in a mouse model of multiple sclerosis. Here we evaluate the potential biological activities of recombinant sIFNAR2 without the mediation of IFN-ß in human cells. Recombinant sIFNAR2 down-regulated the production of IL-17 and IFN-ɣ and reduced the cell proliferation rate. Moreover, it showed a strong antiviral activity, fully protecting the cell monolayer after being infected by the virus. Specific inhibitors completely abrogated the antiviral activity of IFN-ß, but not that of the recombinant sIFNAR2, and there was no activation of the JAK-STAT signaling pathway. Consequently, r-sIFNAR2 exerts immunomodulatory, antiproliferative and antiviral activities without IFN-ß mediation, and could be a promising treatment against viral infections and immune-mediated diseases.',\n",
       " 'keywords': ['IFNAR', 'immunology', 'interferon', 'soluble receptors'],\n",
       " 'authors': [{'lastname': 'Hurtado-Guerrero',\n",
       "   'firstname': 'Isaac',\n",
       "   'initials': 'I',\n",
       "   'affiliation': 'Instituto de Investigación Biomédica de Málaga-IBIMA, 29009 Málaga, Spain.\\nUGC Neurociencias. Hospital Regional Universitario de Málaga, 29010 Málaga, Spain.\\nRed Temática de Investigación Cooperativa: Red Española de Esclerosis Múltiple REEM (RD16/0015/0010), 28049 Madrid, Spain.\\nNeuroinflammation Unit, Biotech Research and Innovation Centre (BRIC), Faculty of Health and Medical Sciences, Copenhagen Biocentre, University of Copenhagen, 2200 Copenhagen, Denmark.'},\n",
       "  {'lastname': 'Hernáez',\n",
       "   'firstname': 'Bruno',\n",
       "   'initials': 'B',\n",
       "   'affiliation': 'Centro de Biología Molecular Severo Ochoa, Consejo Superior de Investigaciones Científicas (CSIC)-Universidad Autónoma de Madrid (UAM), 28049 Madrid, Spain.'},\n",
       "  {'lastname': 'Pinto-Medel',\n",
       "   'firstname': 'María J',\n",
       "   'initials': 'MJ',\n",
       "   'affiliation': 'Instituto de Investigación Biomédica de Málaga-IBIMA, 29009 Málaga, Spain.\\nUGC Neurociencias. Hospital Regional Universitario de Málaga, 29010 Málaga, Spain.\\nRed Temática de Investigación Cooperativa: Red Española de Esclerosis Múltiple REEM (RD16/0015/0010), 28049 Madrid, Spain.'},\n",
       "  {'lastname': 'Calonge',\n",
       "   'firstname': 'Esther',\n",
       "   'initials': 'E',\n",
       "   'affiliation': 'AIDS Immunopathology Unit, Centro Nacional de Microbiología, Instituto de Salud Carlos III, Majadahonda 28220 Madrid, Spain.'},\n",
       "  {'lastname': 'Rodriguez-Bada',\n",
       "   'firstname': 'José L',\n",
       "   'initials': 'JL',\n",
       "   'affiliation': 'Instituto de Investigación Biomédica de Málaga-IBIMA, 29009 Málaga, Spain.\\nUGC Neurociencias. Hospital Regional Universitario de Málaga, 29010 Málaga, Spain.\\nRed Temática de Investigación Cooperativa: Red Española de Esclerosis Múltiple REEM (RD16/0015/0010), 28049 Madrid, Spain.'},\n",
       "  {'lastname': 'Urbaneja',\n",
       "   'firstname': 'Patricia',\n",
       "   'initials': 'P',\n",
       "   'affiliation': 'Instituto de Investigación Biomédica de Málaga-IBIMA, 29009 Málaga, Spain.\\nUGC Neurociencias. Hospital Regional Universitario de Málaga, 29010 Málaga, Spain.\\nRed Temática de Investigación Cooperativa: Red Española de Esclerosis Múltiple REEM (RD16/0015/0010), 28049 Madrid, Spain.'},\n",
       "  {'lastname': 'Alonso',\n",
       "   'firstname': 'Ana',\n",
       "   'initials': 'A',\n",
       "   'affiliation': 'Instituto de Investigación Biomédica de Málaga-IBIMA, 29009 Málaga, Spain.\\nUGC Neurociencias. Hospital Regional Universitario de Málaga, 29010 Málaga, Spain.\\nRed Temática de Investigación Cooperativa: Red Española de Esclerosis Múltiple REEM (RD16/0015/0010), 28049 Madrid, Spain.'},\n",
       "  {'lastname': 'Mena-Vázquez',\n",
       "   'firstname': 'Natalia',\n",
       "   'initials': 'N',\n",
       "   'affiliation': 'Instituto de Investigación Biomédica de Málaga-IBIMA, 29009 Málaga, Spain.\\nUGC de Reumatología, Hospital Regional Universitario de Málaga, 29009 Málaga, Spain.'},\n",
       "  {'lastname': 'Aliaga',\n",
       "   'firstname': 'Pablo',\n",
       "   'initials': 'P',\n",
       "   'affiliation': 'Instituto de Investigación Biomédica de Málaga-IBIMA, 29009 Málaga, Spain.\\nUGC Neurociencias. Hospital Regional Universitario de Málaga, 29010 Málaga, Spain.'},\n",
       "  {'lastname': 'Issazadeh-Navikas',\n",
       "   'firstname': 'Shohreh',\n",
       "   'initials': 'S',\n",
       "   'affiliation': 'Neuroinflammation Unit, Biotech Research and Innovation Centre (BRIC), Faculty of Health and Medical Sciences, Copenhagen Biocentre, University of Copenhagen, 2200 Copenhagen, Denmark.'},\n",
       "  {'lastname': 'Pavia',\n",
       "   'firstname': 'José',\n",
       "   'initials': 'J',\n",
       "   'affiliation': 'Instituto de Investigación Biomédica de Málaga-IBIMA, 29009 Málaga, Spain.\\nDepartamento de Farmacología y Pediatría, Facultad de Medicina. Universidad de Málaga, 29010 Málaga, Spain.'},\n",
       "  {'lastname': 'Leyva',\n",
       "   'firstname': 'Laura',\n",
       "   'initials': 'L',\n",
       "   'affiliation': 'Instituto de Investigación Biomédica de Málaga-IBIMA, 29009 Málaga, Spain.\\nUGC Neurociencias. Hospital Regional Universitario de Málaga, 29010 Málaga, Spain.\\nRed Temática de Investigación Cooperativa: Red Española de Esclerosis Múltiple REEM (RD16/0015/0010), 28049 Madrid, Spain.'},\n",
       "  {'lastname': 'Alcamí',\n",
       "   'firstname': 'José',\n",
       "   'initials': 'J',\n",
       "   'affiliation': 'AIDS Immunopathology Unit, Centro Nacional de Microbiología, Instituto de Salud Carlos III, Majadahonda 28220 Madrid, Spain.\\nHIV Unit, Infectious Disease Service, Hospital Universitari de Bellvitge, 08907 Barcelona, Spain.'},\n",
       "  {'lastname': 'Alcamí',\n",
       "   'firstname': 'Antonio',\n",
       "   'initials': 'A',\n",
       "   'affiliation': 'Centro de Biología Molecular Severo Ochoa, Consejo Superior de Investigaciones Científicas (CSIC)-Universidad Autónoma de Madrid (UAM), 28049 Madrid, Spain.'},\n",
       "  {'lastname': 'Fernández',\n",
       "   'firstname': 'Óscar',\n",
       "   'initials': 'Ó',\n",
       "   'affiliation': 'Instituto de Investigación Biomédica de Málaga-IBIMA, 29009 Málaga, Spain.\\nDepartamento de Farmacología y Pediatría, Facultad de Medicina. Universidad de Málaga, 29010 Málaga, Spain.'},\n",
       "  {'lastname': 'Oliver-Martos',\n",
       "   'firstname': 'Begoña',\n",
       "   'initials': 'B',\n",
       "   'affiliation': 'Instituto de Investigación Biomédica de Málaga-IBIMA, 29009 Málaga, Spain.\\nUGC Neurociencias. Hospital Regional Universitario de Málaga, 29010 Málaga, Spain.\\nRed Temática de Investigación Cooperativa: Red Española de Esclerosis Múltiple REEM (RD16/0015/0010), 28049 Madrid, Spain.'}],\n",
       " 'journal': 'Journal of clinical medicine'}"
      ]
     },
     "execution_count": 10,
     "metadata": {},
     "output_type": "execute_result"
    }
   ],
   "source": [
    "data['32244308\\n14960565\\n25721402\\n25811193\\n11060691\\n25478795\\n11846609\\n11154225\\n26571364\\n25613284\\n27452720\\n15573128\\n24696235\\n14980076\\n22383036\\n20019241\\n7560008\\n28028310\\n18382764\\n10407682\\n18978772\\n23946454\\n7665574\\n17761488\\n11836235\\n3896144\\n1868981\\n26972584\\n25176527\\n29185487\\n15864272\\n12135807\\n1370833\\n19786034\\n29127843\\n7608155\\n7759950\\n29467484\\n1468582\\n22106296\\n26117714\\n8181059\\n7758109\\n27572132\\n2440339\\n27613121\\n11344274']"
   ]
  },
  {
   "cell_type": "code",
   "execution_count": 12,
   "metadata": {},
   "outputs": [
    {
     "data": {
      "text/plain": [
       "['IFNAR', 'immunology', 'interferon', 'soluble receptors']"
      ]
     },
     "execution_count": 12,
     "metadata": {},
     "output_type": "execute_result"
    }
   ],
   "source": [
    "data['32244308\\n14960565\\n25721402\\n25811193\\n11060691\\n25478795\\n11846609\\n11154225\\n26571364\\n25613284\\n27452720\\n15573128\\n24696235\\n14980076\\n22383036\\n20019241\\n7560008\\n28028310\\n18382764\\n10407682\\n18978772\\n23946454\\n7665574\\n17761488\\n11836235\\n3896144\\n1868981\\n26972584\\n25176527\\n29185487\\n15864272\\n12135807\\n1370833\\n19786034\\n29127843\\n7608155\\n7759950\\n29467484\\n1468582\\n22106296\\n26117714\\n8181059\\n7758109\\n27572132\\n2440339\\n27613121\\n11344274']['keywords']"
   ]
  },
  {
   "cell_type": "code",
   "execution_count": 39,
   "metadata": {},
   "outputs": [],
   "source": [
    "import numpy as np"
   ]
  },
  {
   "cell_type": "code",
   "execution_count": 14,
   "metadata": {},
   "outputs": [
    {
     "ename": "TypeError",
     "evalue": "object of type 'NoneType' has no len()",
     "output_type": "error",
     "traceback": [
      "\u001b[0;31m---------------------------------------------------------------------------\u001b[0m",
      "\u001b[0;31mTypeError\u001b[0m                                 Traceback (most recent call last)",
      "\u001b[0;32m<ipython-input-14-96b07938784c>\u001b[0m in \u001b[0;36m<module>\u001b[0;34m\u001b[0m\n\u001b[0;32m----> 1\u001b[0;31m \u001b[0mlen\u001b[0m\u001b[0;34m(\u001b[0m\u001b[0;32mNone\u001b[0m\u001b[0;34m)\u001b[0m\u001b[0;34m\u001b[0m\u001b[0;34m\u001b[0m\u001b[0m\n\u001b[0m",
      "\u001b[0;31mTypeError\u001b[0m: object of type 'NoneType' has no len()"
     ]
    }
   ],
   "source": [
    "len(None)"
   ]
  },
  {
   "cell_type": "code",
   "execution_count": 34,
   "metadata": {},
   "outputs": [],
   "source": [
    "a = 0\n",
    "for art in data.values():\n",
    "    try:\n",
    "        len1 = len(art['keywords'])\n",
    "        if len1 >=1:\n",
    "            a= a +1\n",
    "        #else:\n",
    "            #print(art['keywords'])\n",
    "    except(KeyError, TypeError):\n",
    "        pass"
   ]
  },
  {
   "cell_type": "code",
   "execution_count": 35,
   "metadata": {},
   "outputs": [
    {
     "data": {
      "text/plain": [
       "23659"
      ]
     },
     "execution_count": 35,
     "metadata": {},
     "output_type": "execute_result"
    }
   ],
   "source": [
    "a"
   ]
  },
  {
   "cell_type": "code",
   "execution_count": 36,
   "metadata": {},
   "outputs": [
    {
     "data": {
      "text/plain": [
       "0.265959958182043"
      ]
     },
     "execution_count": 36,
     "metadata": {},
     "output_type": "execute_result"
    }
   ],
   "source": [
    "a/len(data)"
   ]
  },
  {
   "cell_type": "code",
   "execution_count": 26,
   "metadata": {},
   "outputs": [
    {
     "data": {
      "text/plain": [
       "1"
      ]
     },
     "execution_count": 26,
     "metadata": {},
     "output_type": "execute_result"
    }
   ],
   "source": [
    "len(['SCLEROSIS/disseminated'])"
   ]
  },
  {
   "cell_type": "code",
   "execution_count": 37,
   "metadata": {},
   "outputs": [
    {
     "ename": "TypeError",
     "evalue": "'str' object does not support item assignment",
     "output_type": "error",
     "traceback": [
      "\u001b[0;31m---------------------------------------------------------------------------\u001b[0m",
      "\u001b[0;31mTypeError\u001b[0m                                 Traceback (most recent call last)",
      "\u001b[0;32m<ipython-input-37-1f803af87d87>\u001b[0m in \u001b[0;36m<module>\u001b[0;34m\u001b[0m\n\u001b[1;32m      6\u001b[0m     \u001b[0mdata_row\u001b[0m \u001b[0;34m=\u001b[0m \u001b[0mart\u001b[0m\u001b[0;34m\u001b[0m\u001b[0;34m\u001b[0m\u001b[0m\n\u001b[1;32m      7\u001b[0m     \u001b[0;32mfor\u001b[0m \u001b[0mrow\u001b[0m \u001b[0;32min\u001b[0m \u001b[0mdata_row\u001b[0m\u001b[0;34m:\u001b[0m\u001b[0;34m\u001b[0m\u001b[0;34m\u001b[0m\u001b[0m\n\u001b[0;32m----> 8\u001b[0;31m         \u001b[0mrow\u001b[0m\u001b[0;34m[\u001b[0m\u001b[0;34m'Name'\u001b[0m\u001b[0;34m]\u001b[0m\u001b[0;34m=\u001b[0m \u001b[0mpid\u001b[0m\u001b[0;34m\u001b[0m\u001b[0;34m\u001b[0m\u001b[0m\n\u001b[0m\u001b[1;32m      9\u001b[0m         \u001b[0mrows\u001b[0m\u001b[0;34m.\u001b[0m\u001b[0mappend\u001b[0m\u001b[0;34m(\u001b[0m\u001b[0mrow\u001b[0m\u001b[0;34m)\u001b[0m\u001b[0;34m\u001b[0m\u001b[0;34m\u001b[0m\u001b[0m\n",
      "\u001b[0;31mTypeError\u001b[0m: 'str' object does not support item assignment"
     ]
    }
   ],
   "source": [
    "# rows list initialization \n",
    "rows = [] \n",
    "  \n",
    "# appending rows \n",
    "for pid, art in data.items(): \n",
    "    data_row = art \n",
    "    for row in data_row: \n",
    "        row['Name']= pid \n",
    "        rows.append(row) "
   ]
  },
  {
   "cell_type": "code",
   "execution_count": 38,
   "metadata": {},
   "outputs": [
    {
     "data": {
      "text/plain": [
       "{'title': 'Chromatin remodelers in oligodendroglia.',\n",
       " 'abstract': 'Oligodendrocytes, the myelinating cells in the vertebrate central nervous system, produce myelin sheaths to enable saltatory propagation of action potentials. The process of oligodendrocyte myelination entails a stepwise progression from precursor specification to differentiation, which is coordinated by a series of transcriptional and chromatin remodeling events. ATP-dependent chromatin remodeling enzymes, which utilize ATP as an energy source to control chromatin dynamics and regulate the accessibility of chromatin to transcriptional regulators, are critical for oligodendrocyte lineage development and regeneration. In this review, we focus on the latest insights into the spatial and temporal specificity of chromatin remodelers during oligodendrocyte development, myelinogenesis, and regeneration. We will also bring together various plausible mechanisms by which lineage specific transcriptional regulators coordinate with chromatin remodeling factors for programming genomic landscapes to specifically modulate these different processes during developmental myelination and remyelination upon injury.',\n",
       " 'keywords': ['CNS development',\n",
       "  'chromatin remodelers',\n",
       "  'oligodendrogenesis',\n",
       "  'transcription factors',\n",
       "  'transcription regulation'],\n",
       " 'authors': [{'lastname': 'Parras',\n",
       "   'firstname': 'Carlos',\n",
       "   'initials': 'C',\n",
       "   'affiliation': 'Sorbonne Université, UPMC University Paris 06, Inserm U1127, CNRS UMR 7225, GH Pitié-Salpêtrière, Institut du Cerveau et de la Moelle Épinière, ICM, Paris, France.'},\n",
       "  {'lastname': 'Marie',\n",
       "   'firstname': 'Corentine',\n",
       "   'initials': 'C',\n",
       "   'affiliation': 'Sorbonne Université, UPMC University Paris 06, Inserm U1127, CNRS UMR 7225, GH Pitié-Salpêtrière, Institut du Cerveau et de la Moelle Épinière, ICM, Paris, France.'},\n",
       "  {'lastname': 'Zhao',\n",
       "   'firstname': 'Chuntao',\n",
       "   'initials': 'C',\n",
       "   'affiliation': \"Department of Pediatrics, Brain Tumor Center, Division of Experimental Hematology and Cancer Biology, Cincinnati Children's Hospital Medical Center, Cincinnati, Ohio, USA.\"},\n",
       "  {'lastname': 'Lu',\n",
       "   'firstname': 'Qing Richard',\n",
       "   'initials': 'QR',\n",
       "   'affiliation': \"Department of Pediatrics, Brain Tumor Center, Division of Experimental Hematology and Cancer Biology, Cincinnati Children's Hospital Medical Center, Cincinnati, Ohio, USA.\"}],\n",
       " 'journal': 'Glia'}"
      ]
     },
     "execution_count": 38,
     "metadata": {},
     "output_type": "execute_result"
    }
   ],
   "source": [
    "data_row"
   ]
  }
 ],
 "metadata": {
  "kernelspec": {
   "display_name": "Keyphrases extraction",
   "language": "python",
   "name": "kphextr"
  },
  "language_info": {
   "codemirror_mode": {
    "name": "ipython",
    "version": 3
   },
   "file_extension": ".py",
   "mimetype": "text/x-python",
   "name": "python",
   "nbconvert_exporter": "python",
   "pygments_lexer": "ipython3",
   "version": "3.7.7"
  }
 },
 "nbformat": 4,
 "nbformat_minor": 4
}
