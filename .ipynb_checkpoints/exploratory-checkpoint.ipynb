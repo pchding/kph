{
 "cells": [
  {
   "cell_type": "code",
   "execution_count": 17,
   "metadata": {},
   "outputs": [],
   "source": [
    "import numpy as np\n",
    "import pandas as pd"
   ]
  },
  {
   "cell_type": "code",
   "execution_count": 2,
   "metadata": {},
   "outputs": [],
   "source": [
    "datao = pd.read_pickle(\"~/OneDrive/kph/processed2.pkl\")"
   ]
  },
  {
   "cell_type": "code",
   "execution_count": 9,
   "metadata": {},
   "outputs": [],
   "source": [
    "datao['extraction_rate'] = datao['ext perc']/(datao['keywords'].apply(lambda x: len(x)))"
   ]
  },
  {
   "cell_type": "code",
   "execution_count": 10,
   "metadata": {},
   "outputs": [
    {
     "data": {
      "text/html": [
       "<div>\n",
       "<style scoped>\n",
       "    .dataframe tbody tr th:only-of-type {\n",
       "        vertical-align: middle;\n",
       "    }\n",
       "\n",
       "    .dataframe tbody tr th {\n",
       "        vertical-align: top;\n",
       "    }\n",
       "\n",
       "    .dataframe thead th {\n",
       "        text-align: right;\n",
       "    }\n",
       "</style>\n",
       "<table border=\"1\" class=\"dataframe\">\n",
       "  <thead>\n",
       "    <tr style=\"text-align: right;\">\n",
       "      <th></th>\n",
       "      <th>SRC</th>\n",
       "      <th>TRG</th>\n",
       "      <th>keywords</th>\n",
       "      <th>ext perc</th>\n",
       "      <th>extraction_rate</th>\n",
       "    </tr>\n",
       "  </thead>\n",
       "  <tbody>\n",
       "    <tr>\n",
       "      <th>32460418</th>\n",
       "      <td>Chromatin remodelers in oligodendroglia. Oligo...</td>\n",
       "      <td>B I O O O O O O O O O O O O O O O O O O O O O ...</td>\n",
       "      <td>[CNS development, chromatin remodelers, oligod...</td>\n",
       "      <td>1</td>\n",
       "      <td>0.2</td>\n",
       "    </tr>\n",
       "    <tr>\n",
       "      <th>32460167</th>\n",
       "      <td>Clinical implications of serum neurofilament i...</td>\n",
       "      <td>O O O O O O O O O O O O O O O O O O O O O O B ...</td>\n",
       "      <td>[Biomarker, Multiple sclerosis, Neurofilament ...</td>\n",
       "      <td>4</td>\n",
       "      <td>0.8</td>\n",
       "    </tr>\n",
       "    <tr>\n",
       "      <th>32460145</th>\n",
       "      <td>Effect of cognitive rehabilitation on neuropsy...</td>\n",
       "      <td>O O B I O O O O O O O O O O O B I O O O O O O ...</td>\n",
       "      <td>[Clinical trial, Cognition, Cognitive rehabili...</td>\n",
       "      <td>4</td>\n",
       "      <td>0.666667</td>\n",
       "    </tr>\n",
       "    <tr>\n",
       "      <th>32460086</th>\n",
       "      <td>B-cell depleting therapies may affect suscepti...</td>\n",
       "      <td>B I I I I O O O O O O O O O O B I O O O B O O ...</td>\n",
       "      <td>[B-cell depleting therapies, COVID-19, DMTs, M...</td>\n",
       "      <td>4</td>\n",
       "      <td>1</td>\n",
       "    </tr>\n",
       "    <tr>\n",
       "      <th>32459513</th>\n",
       "      <td>The dichotomous role of the gut microbiome in ...</td>\n",
       "      <td>O O O O O B I O O O O B I O O O B I O O O O O ...</td>\n",
       "      <td>[Alzheimer’s disease, Parkinson’s disease, gut...</td>\n",
       "      <td>5</td>\n",
       "      <td>0.555556</td>\n",
       "    </tr>\n",
       "    <tr>\n",
       "      <th>...</th>\n",
       "      <td>...</td>\n",
       "      <td>...</td>\n",
       "      <td>...</td>\n",
       "      <td>...</td>\n",
       "      <td>...</td>\n",
       "    </tr>\n",
       "    <tr>\n",
       "      <th>13106716</th>\n",
       "      <td>Multiple sclerosis; its frequency and distribu...</td>\n",
       "      <td>O O O O O O O O O O O O O O O O O O O O O O O ...</td>\n",
       "      <td>[MULTIPLE SCLEROSIS/epidemiology]</td>\n",
       "      <td>0</td>\n",
       "      <td>0</td>\n",
       "    </tr>\n",
       "    <tr>\n",
       "      <th>13106715</th>\n",
       "      <td>The allergic aspects of multiple sclerosis. Fo...</td>\n",
       "      <td>O O O O O O O O O O O O O O O O O O O O O O O ...</td>\n",
       "      <td>[ALLERGY/manifestations]</td>\n",
       "      <td>0</td>\n",
       "      <td>0</td>\n",
       "    </tr>\n",
       "    <tr>\n",
       "      <th>13106714</th>\n",
       "      <td>Histamine treatment of multiple sclerosis. His...</td>\n",
       "      <td>O O O O O O O O O O O O O O O O O O O O O O O ...</td>\n",
       "      <td>[HISTAMINE/therapeutic use, MULTIPLE SCLEROSIS...</td>\n",
       "      <td>0</td>\n",
       "      <td>0</td>\n",
       "    </tr>\n",
       "    <tr>\n",
       "      <th>14832406</th>\n",
       "      <td>Studies on acute disseminated encephalomyeliti...</td>\n",
       "      <td>O O O O B O O O O O O O O O O O O O O O O O O ...</td>\n",
       "      <td>[CEREBROSPINAL FLUID, ENCEPHALOMYELITIS]</td>\n",
       "      <td>2</td>\n",
       "      <td>1</td>\n",
       "    </tr>\n",
       "    <tr>\n",
       "      <th>14824402</th>\n",
       "      <td>Demyelinization induced in living rabbits by m...</td>\n",
       "      <td>O O O O O O O O O O O O O O O O O O O O O O O ...</td>\n",
       "      <td>[ENZYMES, SCLEROSIS]</td>\n",
       "      <td>1</td>\n",
       "      <td>0.5</td>\n",
       "    </tr>\n",
       "  </tbody>\n",
       "</table>\n",
       "<p>20960 rows × 5 columns</p>\n",
       "</div>"
      ],
      "text/plain": [
       "                                                        SRC  \\\n",
       "32460418  Chromatin remodelers in oligodendroglia. Oligo...   \n",
       "32460167  Clinical implications of serum neurofilament i...   \n",
       "32460145  Effect of cognitive rehabilitation on neuropsy...   \n",
       "32460086  B-cell depleting therapies may affect suscepti...   \n",
       "32459513  The dichotomous role of the gut microbiome in ...   \n",
       "...                                                     ...   \n",
       "13106716  Multiple sclerosis; its frequency and distribu...   \n",
       "13106715  The allergic aspects of multiple sclerosis. Fo...   \n",
       "13106714  Histamine treatment of multiple sclerosis. His...   \n",
       "14832406  Studies on acute disseminated encephalomyeliti...   \n",
       "14824402  Demyelinization induced in living rabbits by m...   \n",
       "\n",
       "                                                        TRG  \\\n",
       "32460418  B I O O O O O O O O O O O O O O O O O O O O O ...   \n",
       "32460167  O O O O O O O O O O O O O O O O O O O O O O B ...   \n",
       "32460145  O O B I O O O O O O O O O O O B I O O O O O O ...   \n",
       "32460086  B I I I I O O O O O O O O O O B I O O O B O O ...   \n",
       "32459513  O O O O O B I O O O O B I O O O B I O O O O O ...   \n",
       "...                                                     ...   \n",
       "13106716  O O O O O O O O O O O O O O O O O O O O O O O ...   \n",
       "13106715  O O O O O O O O O O O O O O O O O O O O O O O ...   \n",
       "13106714  O O O O O O O O O O O O O O O O O O O O O O O ...   \n",
       "14832406  O O O O B O O O O O O O O O O O O O O O O O O ...   \n",
       "14824402  O O O O O O O O O O O O O O O O O O O O O O O ...   \n",
       "\n",
       "                                                   keywords ext perc  \\\n",
       "32460418  [CNS development, chromatin remodelers, oligod...        1   \n",
       "32460167  [Biomarker, Multiple sclerosis, Neurofilament ...        4   \n",
       "32460145  [Clinical trial, Cognition, Cognitive rehabili...        4   \n",
       "32460086  [B-cell depleting therapies, COVID-19, DMTs, M...        4   \n",
       "32459513  [Alzheimer’s disease, Parkinson’s disease, gut...        5   \n",
       "...                                                     ...      ...   \n",
       "13106716                  [MULTIPLE SCLEROSIS/epidemiology]        0   \n",
       "13106715                           [ALLERGY/manifestations]        0   \n",
       "13106714  [HISTAMINE/therapeutic use, MULTIPLE SCLEROSIS...        0   \n",
       "14832406           [CEREBROSPINAL FLUID, ENCEPHALOMYELITIS]        2   \n",
       "14824402                               [ENZYMES, SCLEROSIS]        1   \n",
       "\n",
       "         extraction_rate  \n",
       "32460418             0.2  \n",
       "32460167             0.8  \n",
       "32460145        0.666667  \n",
       "32460086               1  \n",
       "32459513        0.555556  \n",
       "...                  ...  \n",
       "13106716               0  \n",
       "13106715               0  \n",
       "13106714               0  \n",
       "14832406               1  \n",
       "14824402             0.5  \n",
       "\n",
       "[20960 rows x 5 columns]"
      ]
     },
     "execution_count": 10,
     "metadata": {},
     "output_type": "execute_result"
    }
   ],
   "source": [
    "datao"
   ]
  },
  {
   "cell_type": "code",
   "execution_count": null,
   "metadata": {},
   "outputs": [],
   "source": [
    "20960/89k"
   ]
  },
  {
   "cell_type": "code",
   "execution_count": 14,
   "metadata": {},
   "outputs": [
    {
     "data": {
      "image/png": "[encoded data removed]",
      "text/plain": [
       "<Figure size 432x288 with 1 Axes>"
      ]
     },
     "metadata": {},
     "output_type": "display_data"
    }
   ],
   "source": [
    "import seaborn as sns\n",
    "import matplotlib.pyplot as plt\n",
    "sns.set(style=\"darkgrid\")\n",
    "ax = sns.countplot(x=\"ext perc\", data=datao)"
   ]
  },
  {
   "cell_type": "code",
   "execution_count": 15,
   "metadata": {},
   "outputs": [
    {
     "data": {
      "image/png": "[encoded data removed]",
      "text/plain": [
       "<Figure size 432x288 with 1 Axes>"
      ]
     },
     "metadata": {},
     "output_type": "display_data"
    }
   ],
   "source": [
    "x = datao['ext perc']\n",
    "sns.kdeplot(x, shade=True);\n",
    "sns.distplot(x);"
   ]
  },
  {
   "cell_type": "code",
   "execution_count": 20,
   "metadata": {},
   "outputs": [
    {
     "data": {
      "text/plain": [
       "Text(0, 0.5, 'Frequency')"
      ]
     },
     "execution_count": 20,
     "metadata": {},
     "output_type": "execute_result"
    },
    {
     "data": {
      "image/png": "[encoded data removed]",
      "text/plain": [
       "<Figure size 432x288 with 1 Axes>"
      ]
     },
     "metadata": {},
     "output_type": "display_data"
    }
   ],
   "source": [
    "sns.distplot(datao['extraction_rate'], kde=False, color='red', bins=20)\n",
    "plt.title('number of extracted key phases', fontsize=14)\n",
    "plt.xlabel('extraction rate', fontsize=12)\n",
    "plt.ylabel('Frequency', fontsize=12)"
   ]
  },
  {
   "cell_type": "code",
   "execution_count": null,
   "metadata": {},
   "outputs": [],
   "source": []
  }
 ],
 "metadata": {
  "kernelspec": {
   "display_name": "Keyphrases extraction",
   "language": "python",
   "name": "kphextr"
  },
  "language_info": {
   "codemirror_mode": {
    "name": "ipython",
    "version": 3
   },
   "file_extension": ".py",
   "mimetype": "text/x-python",
   "name": "python",
   "nbconvert_exporter": "python",
   "pygments_lexer": "ipython3",
   "version": "3.7.7"
  }
 },
 "nbformat": 4,
 "nbformat_minor": 4
}
