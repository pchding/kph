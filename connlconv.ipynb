{
 "cells": [
  {
   "cell_type": "code",
   "execution_count": 1,
   "metadata": {},
   "outputs": [],
   "source": [
    "import pandas as pd\n",
    "import numpy as np"
   ]
  },
  {
   "cell_type": "code",
   "execution_count": 2,
   "metadata": {},
   "outputs": [],
   "source": [
    "import spacy\n",
    "import en_core_web_sm\n",
    "svoc = spacy.load(\"en_core_web_sm\")"
   ]
  },
  {
   "cell_type": "code",
   "execution_count": 3,
   "metadata": {},
   "outputs": [],
   "source": [
    "tokenizertrg = lambda x: x.split()\n",
    "def tokenizersrc(text): # create a tokenizer function\n",
    "    return [tok.text for tok in svoc.tokenizer(text)]"
   ]
  },
  {
   "cell_type": "code",
   "execution_count": 4,
   "metadata": {},
   "outputs": [],
   "source": [
    "datao = pd.read_pickle(\"~/OneDrive/kph/processed3.pkl\")"
   ]
  },
  {
   "cell_type": "code",
   "execution_count": 5,
   "metadata": {},
   "outputs": [],
   "source": [
    "datao = datao.replace(r'\\W+',' ', regex=True)"
   ]
  },
  {
   "cell_type": "code",
   "execution_count": 6,
   "metadata": {},
   "outputs": [],
   "source": [
    "datao['abs_l'] = (datao['abskey'].apply(lambda x: len(x)))"
   ]
  },
  {
   "cell_type": "code",
   "execution_count": 14,
   "metadata": {},
   "outputs": [],
   "source": [
    "datao['title'] = 'a'"
   ]
  },
  {
   "cell_type": "code",
   "execution_count": 8,
   "metadata": {},
   "outputs": [],
   "source": [
    "datao['keyword'] = (datao['abskey'].apply(lambda x: ';'.join(x)))"
   ]
  },
  {
   "cell_type": "code",
   "execution_count": 7,
   "metadata": {},
   "outputs": [],
   "source": [
    "datau = datao[datao['Extracted']>=3]"
   ]
  },
  {
   "cell_type": "code",
   "execution_count": 8,
   "metadata": {},
   "outputs": [],
   "source": [
    "datat = datao[datao['Extracted']<3]"
   ]
  },
  {
   "cell_type": "code",
   "execution_count": 47,
   "metadata": {},
   "outputs": [
    {
     "data": {
      "text/html": [
       "<div>\n",
       "<style scoped>\n",
       "    .dataframe tbody tr th:only-of-type {\n",
       "        vertical-align: middle;\n",
       "    }\n",
       "\n",
       "    .dataframe tbody tr th {\n",
       "        vertical-align: top;\n",
       "    }\n",
       "\n",
       "    .dataframe thead th {\n",
       "        text-align: right;\n",
       "    }\n",
       "</style>\n",
       "<table border=\"1\" class=\"dataframe\">\n",
       "  <thead>\n",
       "    <tr style=\"text-align: right;\">\n",
       "      <th></th>\n",
       "      <th>SRC</th>\n",
       "      <th>TRG</th>\n",
       "      <th>keywords</th>\n",
       "      <th>Extracted</th>\n",
       "      <th>abskey</th>\n",
       "    </tr>\n",
       "  </thead>\n",
       "  <tbody>\n",
       "    <tr>\n",
       "      <th>32460418</th>\n",
       "      <td>Chromatin remodelers in oligodendroglia. Oligo...</td>\n",
       "      <td>B I O O O O O O O O O O O O O O O O O O O O O ...</td>\n",
       "      <td>[CNS development, chromatin remodelers, oligod...</td>\n",
       "      <td>1</td>\n",
       "      <td>[CNS development, oligodendrogenesis, transcri...</td>\n",
       "    </tr>\n",
       "    <tr>\n",
       "      <th>32460167</th>\n",
       "      <td>Clinical implications of serum neurofilament i...</td>\n",
       "      <td>O O O O O O O O O O O O O O O O O O O O O O B ...</td>\n",
       "      <td>[Biomarker, Multiple sclerosis, Neurofilament ...</td>\n",
       "      <td>4</td>\n",
       "      <td>[Prediction]</td>\n",
       "    </tr>\n",
       "    <tr>\n",
       "      <th>32460145</th>\n",
       "      <td>Effect of cognitive rehabilitation on neuropsy...</td>\n",
       "      <td>O O B I O O O O O O O O O O O B I O O O O O O ...</td>\n",
       "      <td>[Clinical trial, Cognition, Cognitive rehabili...</td>\n",
       "      <td>4</td>\n",
       "      <td>[Clinical trial, Cognition]</td>\n",
       "    </tr>\n",
       "    <tr>\n",
       "      <th>32460086</th>\n",
       "      <td>B-cell depleting therapies may affect suscepti...</td>\n",
       "      <td>B I I I I O O O O O O O O O O B I O O O B O O ...</td>\n",
       "      <td>[B-cell depleting therapies, COVID-19, DMTs, M...</td>\n",
       "      <td>4</td>\n",
       "      <td>[]</td>\n",
       "    </tr>\n",
       "    <tr>\n",
       "      <th>32459513</th>\n",
       "      <td>The dichotomous role of the gut microbiome in ...</td>\n",
       "      <td>O O O O O B I O O O O B I O O O B I O O O O O ...</td>\n",
       "      <td>[Alzheimer’s disease, Parkinson’s disease, gut...</td>\n",
       "      <td>5</td>\n",
       "      <td>[Alzheimer’s disease, Parkinson’s disease, gut...</td>\n",
       "    </tr>\n",
       "    <tr>\n",
       "      <th>...</th>\n",
       "      <td>...</td>\n",
       "      <td>...</td>\n",
       "      <td>...</td>\n",
       "      <td>...</td>\n",
       "      <td>...</td>\n",
       "    </tr>\n",
       "    <tr>\n",
       "      <th>13106716</th>\n",
       "      <td>Multiple sclerosis; its frequency and distribu...</td>\n",
       "      <td>O O O O O O O O O O O O O O O O O O O O O O O ...</td>\n",
       "      <td>[MULTIPLE SCLEROSIS/epidemiology]</td>\n",
       "      <td>0</td>\n",
       "      <td>[MULTIPLE SCLEROSIS/epidemiology]</td>\n",
       "    </tr>\n",
       "    <tr>\n",
       "      <th>13106715</th>\n",
       "      <td>The allergic aspects of multiple sclerosis. Fo...</td>\n",
       "      <td>O O O O O O O O O O O O O O O O O O O O O O O ...</td>\n",
       "      <td>[ALLERGY/manifestations]</td>\n",
       "      <td>0</td>\n",
       "      <td>[ALLERGY/manifestations]</td>\n",
       "    </tr>\n",
       "    <tr>\n",
       "      <th>13106714</th>\n",
       "      <td>Histamine treatment of multiple sclerosis. His...</td>\n",
       "      <td>O O O O O O O O O O O O O O O O O O O O O O O ...</td>\n",
       "      <td>[HISTAMINE/therapeutic use, MULTIPLE SCLEROSIS...</td>\n",
       "      <td>0</td>\n",
       "      <td>[HISTAMINE/therapeutic use, MULTIPLE SCLEROSIS...</td>\n",
       "    </tr>\n",
       "    <tr>\n",
       "      <th>14832406</th>\n",
       "      <td>Studies on acute disseminated encephalomyeliti...</td>\n",
       "      <td>O O O O B O O O O O O O O O O O O O O O O O O ...</td>\n",
       "      <td>[CEREBROSPINAL FLUID, ENCEPHALOMYELITIS]</td>\n",
       "      <td>2</td>\n",
       "      <td>[]</td>\n",
       "    </tr>\n",
       "    <tr>\n",
       "      <th>14824402</th>\n",
       "      <td>Demyelinization induced in living rabbits by m...</td>\n",
       "      <td>O O O O O O O O O O O O O O O O O O O O O O O ...</td>\n",
       "      <td>[ENZYMES, SCLEROSIS]</td>\n",
       "      <td>1</td>\n",
       "      <td>[ENZYMES]</td>\n",
       "    </tr>\n",
       "  </tbody>\n",
       "</table>\n",
       "<p>20960 rows × 5 columns</p>\n",
       "</div>"
      ],
      "text/plain": [
       "                                                        SRC  \\\n",
       "32460418  Chromatin remodelers in oligodendroglia. Oligo...   \n",
       "32460167  Clinical implications of serum neurofilament i...   \n",
       "32460145  Effect of cognitive rehabilitation on neuropsy...   \n",
       "32460086  B-cell depleting therapies may affect suscepti...   \n",
       "32459513  The dichotomous role of the gut microbiome in ...   \n",
       "...                                                     ...   \n",
       "13106716  Multiple sclerosis; its frequency and distribu...   \n",
       "13106715  The allergic aspects of multiple sclerosis. Fo...   \n",
       "13106714  Histamine treatment of multiple sclerosis. His...   \n",
       "14832406  Studies on acute disseminated encephalomyeliti...   \n",
       "14824402  Demyelinization induced in living rabbits by m...   \n",
       "\n",
       "                                                        TRG  \\\n",
       "32460418  B I O O O O O O O O O O O O O O O O O O O O O ...   \n",
       "32460167  O O O O O O O O O O O O O O O O O O O O O O B ...   \n",
       "32460145  O O B I O O O O O O O O O O O B I O O O O O O ...   \n",
       "32460086  B I I I I O O O O O O O O O O B I O O O B O O ...   \n",
       "32459513  O O O O O B I O O O O B I O O O B I O O O O O ...   \n",
       "...                                                     ...   \n",
       "13106716  O O O O O O O O O O O O O O O O O O O O O O O ...   \n",
       "13106715  O O O O O O O O O O O O O O O O O O O O O O O ...   \n",
       "13106714  O O O O O O O O O O O O O O O O O O O O O O O ...   \n",
       "14832406  O O O O B O O O O O O O O O O O O O O O O O O ...   \n",
       "14824402  O O O O O O O O O O O O O O O O O O O O O O O ...   \n",
       "\n",
       "                                                   keywords Extracted  \\\n",
       "32460418  [CNS development, chromatin remodelers, oligod...         1   \n",
       "32460167  [Biomarker, Multiple sclerosis, Neurofilament ...         4   \n",
       "32460145  [Clinical trial, Cognition, Cognitive rehabili...         4   \n",
       "32460086  [B-cell depleting therapies, COVID-19, DMTs, M...         4   \n",
       "32459513  [Alzheimer’s disease, Parkinson’s disease, gut...         5   \n",
       "...                                                     ...       ...   \n",
       "13106716                  [MULTIPLE SCLEROSIS/epidemiology]         0   \n",
       "13106715                           [ALLERGY/manifestations]         0   \n",
       "13106714  [HISTAMINE/therapeutic use, MULTIPLE SCLEROSIS...         0   \n",
       "14832406           [CEREBROSPINAL FLUID, ENCEPHALOMYELITIS]         2   \n",
       "14824402                               [ENZYMES, SCLEROSIS]         1   \n",
       "\n",
       "                                                     abskey  \n",
       "32460418  [CNS development, oligodendrogenesis, transcri...  \n",
       "32460167                                       [Prediction]  \n",
       "32460145                        [Clinical trial, Cognition]  \n",
       "32460086                                                 []  \n",
       "32459513  [Alzheimer’s disease, Parkinson’s disease, gut...  \n",
       "...                                                     ...  \n",
       "13106716                  [MULTIPLE SCLEROSIS/epidemiology]  \n",
       "13106715                           [ALLERGY/manifestations]  \n",
       "13106714  [HISTAMINE/therapeutic use, MULTIPLE SCLEROSIS...  \n",
       "14832406                                                 []  \n",
       "14824402                                          [ENZYMES]  \n",
       "\n",
       "[20960 rows x 5 columns]"
      ]
     },
     "execution_count": 47,
     "metadata": {},
     "output_type": "execute_result"
    }
   ],
   "source": [
    "datao"
   ]
  },
  {
   "cell_type": "code",
   "execution_count": 50,
   "metadata": {},
   "outputs": [],
   "source": [
    "# separate train and validate \n",
    "VAL_RATIO = 0.2\n",
    "dtrain = datau.loc[:,['SRC','TRG']]\n",
    "dtraink = datau.loc[:,['SRC','TRG']]\n",
    "seed=250\n",
    "idx = np.arange(datau.shape[0])\n",
    "np.random.seed(seed)\n",
    "np.random.shuffle(idx)\n",
    "val_size = int(len(idx) * VAL_RATIO)\n",
    "df_train = dtrain.iloc[idx[val_size:], :]\n",
    "df_val = dtrain.iloc[idx[:val_size], :]"
   ]
  },
  {
   "cell_type": "code",
   "execution_count": 15,
   "metadata": {},
   "outputs": [],
   "source": [
    "datao = datao.rename(columns={'SRC':'abstract'})\n",
    "datau = datao[datao['abs_l']>=2]\n",
    "datat = datao[(datao['abs_l']<2) & (datao['abs_l']>0)]\n",
    "# separate train and validate \n",
    "VAL_RATIO = 0.2\n",
    "dtrain = datau.loc[:,['abstract','keyword','title']]\n",
    "dtraink = datau.loc[:,['abstract','keyword','title']]\n",
    "seed=250\n",
    "idx = np.arange(datau.shape[0])\n",
    "np.random.seed(seed)\n",
    "np.random.shuffle(idx)\n",
    "val_size = int(len(idx) * VAL_RATIO)\n",
    "df_train = dtrain.iloc[idx[val_size:], :]\n",
    "df_val = dtrain.iloc[idx[:val_size], :]\n",
    "df_test = datat.loc[:,['abstract','keyword','title']]"
   ]
  },
  {
   "cell_type": "code",
   "execution_count": 19,
   "metadata": {},
   "outputs": [
    {
     "data": {
      "text/html": [
       "<div>\n",
       "<style scoped>\n",
       "    .dataframe tbody tr th:only-of-type {\n",
       "        vertical-align: middle;\n",
       "    }\n",
       "\n",
       "    .dataframe tbody tr th {\n",
       "        vertical-align: top;\n",
       "    }\n",
       "\n",
       "    .dataframe thead th {\n",
       "        text-align: right;\n",
       "    }\n",
       "</style>\n",
       "<table border=\"1\" class=\"dataframe\">\n",
       "  <thead>\n",
       "    <tr style=\"text-align: right;\">\n",
       "      <th></th>\n",
       "      <th>abstract</th>\n",
       "      <th>keyword</th>\n",
       "      <th>title</th>\n",
       "    </tr>\n",
       "  </thead>\n",
       "  <tbody>\n",
       "    <tr>\n",
       "      <th>31680631</th>\n",
       "      <td>Diroximel fumarate DRF in patients with relaps...</td>\n",
       "      <td>Relapsing–remitting multiple sclerosis;clinica...</td>\n",
       "      <td>a</td>\n",
       "    </tr>\n",
       "    <tr>\n",
       "      <th>28285265</th>\n",
       "      <td>Neuropsychiatric syndromes of multiple scleros...</td>\n",
       "      <td>Bipolar Disorder;Depression;Magnetic Resonance...</td>\n",
       "      <td>a</td>\n",
       "    </tr>\n",
       "    <tr>\n",
       "      <th>28203098</th>\n",
       "      <td>Health care resource utilization before and af...</td>\n",
       "      <td>outcomes;relapsing–remitting</td>\n",
       "      <td>a</td>\n",
       "    </tr>\n",
       "    <tr>\n",
       "      <th>28607730</th>\n",
       "      <td>Distractibility in multiple sclerosis The role...</td>\n",
       "      <td>cognition;distraction</td>\n",
       "      <td>a</td>\n",
       "    </tr>\n",
       "    <tr>\n",
       "      <th>32172998</th>\n",
       "      <td>The multiple sclerosis gut microbiota A system...</td>\n",
       "      <td>Bacteria;Microbiome</td>\n",
       "      <td>a</td>\n",
       "    </tr>\n",
       "    <tr>\n",
       "      <th>...</th>\n",
       "      <td>...</td>\n",
       "      <td>...</td>\n",
       "      <td>...</td>\n",
       "    </tr>\n",
       "    <tr>\n",
       "      <th>29299614</th>\n",
       "      <td>Cortical and Subcortical Morphometric and Iron...</td>\n",
       "      <td>Cortical grey matter;Magnetic susceptibility m...</td>\n",
       "      <td>a</td>\n",
       "    </tr>\n",
       "    <tr>\n",
       "      <th>27424141</th>\n",
       "      <td>Mannose binding Lectin Mediated Complement Pat...</td>\n",
       "      <td>Autoimmunity;Complement system proteins</td>\n",
       "      <td>a</td>\n",
       "    </tr>\n",
       "    <tr>\n",
       "      <th>19966907</th>\n",
       "      <td>Coenzyme Q10 effects in neurodegenerative dise...</td>\n",
       "      <td>Huntington’s disease;Parkinson’s disease</td>\n",
       "      <td>a</td>\n",
       "    </tr>\n",
       "    <tr>\n",
       "      <th>31443863</th>\n",
       "      <td>Using centrality measures to extract core patt...</td>\n",
       "      <td>Coarse-graining;Discrete dynamics;Entropy rate...</td>\n",
       "      <td>a</td>\n",
       "    </tr>\n",
       "    <tr>\n",
       "      <th>28008367</th>\n",
       "      <td>Characterisation of rollator use using inertia...</td>\n",
       "      <td>biomedical measurement;geriatrics;handicapped ...</td>\n",
       "      <td>a</td>\n",
       "    </tr>\n",
       "  </tbody>\n",
       "</table>\n",
       "<p>2390 rows × 3 columns</p>\n",
       "</div>"
      ],
      "text/plain": [
       "                                                   abstract  \\\n",
       "31680631  Diroximel fumarate DRF in patients with relaps...   \n",
       "28285265  Neuropsychiatric syndromes of multiple scleros...   \n",
       "28203098  Health care resource utilization before and af...   \n",
       "28607730  Distractibility in multiple sclerosis The role...   \n",
       "32172998  The multiple sclerosis gut microbiota A system...   \n",
       "...                                                     ...   \n",
       "29299614  Cortical and Subcortical Morphometric and Iron...   \n",
       "27424141  Mannose binding Lectin Mediated Complement Pat...   \n",
       "19966907  Coenzyme Q10 effects in neurodegenerative dise...   \n",
       "31443863  Using centrality measures to extract core patt...   \n",
       "28008367  Characterisation of rollator use using inertia...   \n",
       "\n",
       "                                                    keyword title  \n",
       "31680631  Relapsing–remitting multiple sclerosis;clinica...     a  \n",
       "28285265  Bipolar Disorder;Depression;Magnetic Resonance...     a  \n",
       "28203098                       outcomes;relapsing–remitting     a  \n",
       "28607730                              cognition;distraction     a  \n",
       "32172998                                Bacteria;Microbiome     a  \n",
       "...                                                     ...   ...  \n",
       "29299614  Cortical grey matter;Magnetic susceptibility m...     a  \n",
       "27424141            Autoimmunity;Complement system proteins     a  \n",
       "19966907           Huntington’s disease;Parkinson’s disease     a  \n",
       "31443863  Coarse-graining;Discrete dynamics;Entropy rate...     a  \n",
       "28008367  biomedical measurement;geriatrics;handicapped ...     a  \n",
       "\n",
       "[2390 rows x 3 columns]"
      ]
     },
     "execution_count": 19,
     "metadata": {},
     "output_type": "execute_result"
    }
   ],
   "source": [
    "df_val"
   ]
  },
  {
   "cell_type": "code",
   "execution_count": 20,
   "metadata": {},
   "outputs": [],
   "source": [
    "df_train.to_json('kp20k_training.json',orient='records',lines=True)"
   ]
  },
  {
   "cell_type": "code",
   "execution_count": 21,
   "metadata": {},
   "outputs": [],
   "source": [
    "df_val.to_json('kp20k_validation.json',orient='records',lines=True)"
   ]
  },
  {
   "cell_type": "code",
   "execution_count": 22,
   "metadata": {},
   "outputs": [],
   "source": [
    "df_test.to_json('kp20k_testing.json',orient='records',lines=True)"
   ]
  },
  {
   "cell_type": "code",
   "execution_count": 21,
   "metadata": {},
   "outputs": [
    {
     "name": "stderr",
     "output_type": "stream",
     "text": [
      "/home/pding/anaconda3/envs/kph2/lib/python3.8/site-packages/pandas/core/indexing.py:1048: SettingWithCopyWarning: \n",
      "A value is trying to be set on a copy of a slice from a DataFrame.\n",
      "Try using .loc[row_indexer,col_indexer] = value instead\n",
      "\n",
      "See the caveats in the documentation: https://pandas.pydata.org/pandas-docs/stable/user_guide/indexing.html#returning-a-view-versus-a-copy\n",
      "  self.obj[item_labels[indexer[info_axis]]] = value\n"
     ]
    }
   ],
   "source": [
    "df_train.loc[:,'abskey'] = df_train.loc[:,'abskey'].replace(',',';', regex=True)"
   ]
  },
  {
   "cell_type": "code",
   "execution_count": 26,
   "metadata": {},
   "outputs": [
    {
     "name": "stderr",
     "output_type": "stream",
     "text": [
      "<ipython-input-26-2d130bf99ece>:1: SettingWithCopyWarning: \n",
      "A value is trying to be set on a copy of a slice from a DataFrame.\n",
      "Try using .loc[row_indexer,col_indexer] = value instead\n",
      "\n",
      "See the caveats in the documentation: https://pandas.pydata.org/pandas-docs/stable/user_guide/indexing.html#returning-a-view-versus-a-copy\n",
      "  df_train['abskey'] = df_train['abskey'].str.replace(',',';')\n"
     ]
    }
   ],
   "source": [
    "df_train['abskey'] = df_train['abskey'].str.replace(',',';')"
   ]
  },
  {
   "cell_type": "code",
   "execution_count": 33,
   "metadata": {},
   "outputs": [
    {
     "data": {
      "text/plain": [
       "['CanMEDS', 'Health advocate', 'education']"
      ]
     },
     "execution_count": 33,
     "metadata": {},
     "output_type": "execute_result"
    }
   ],
   "source": [
    "df_train.abskey[0]"
   ]
  },
  {
   "cell_type": "code",
   "execution_count": 40,
   "metadata": {},
   "outputs": [],
   "source": [
    "t1 = dataot.iloc[1,0]"
   ]
  },
  {
   "cell_type": "code",
   "execution_count": 53,
   "metadata": {},
   "outputs": [],
   "source": [
    "file1 = open(\"trainan.txt\",\"w\")"
   ]
  },
  {
   "cell_type": "code",
   "execution_count": 54,
   "metadata": {},
   "outputs": [],
   "source": [
    "for _, row in df_train.iterrows():\n",
    "    text = tokenizersrc(row[0])\n",
    "    label = tokenizertrg(row[1])\n",
    "    for i in range(len(text)):\n",
    "        file1.write(r'%s' %text[i])\n",
    "        file1.write('###')\n",
    "        file1.write(r'%s' %label[i])\n",
    "        file1.write(' ')\n",
    "    file1.write('\\n')"
   ]
  },
  {
   "cell_type": "code",
   "execution_count": 55,
   "metadata": {},
   "outputs": [],
   "source": [
    "file1.close() "
   ]
  },
  {
   "cell_type": "code",
   "execution_count": 56,
   "metadata": {},
   "outputs": [],
   "source": [
    "file2 = open(\"testan.txt\",\"w\")\n",
    "for _, row in df_val.iterrows():\n",
    "    text = tokenizersrc(row[0])\n",
    "    label = tokenizertrg(row[1])\n",
    "    for i in range(len(text)):\n",
    "        file2.write(r'%s' %text[i])\n",
    "        file2.write('###')\n",
    "        file2.write(r'%s' %label[i])\n",
    "        file2.write(' ')\n",
    "    file2.write('\\n')\n",
    "file2.close() "
   ]
  },
  {
   "cell_type": "code",
   "execution_count": 31,
   "metadata": {},
   "outputs": [
    {
     "name": "stdout",
     "output_type": "stream",
     "text": [
      "tt \n",
      " tt\n"
     ]
    }
   ],
   "source": [
    "print(r'%s' % a)"
   ]
  },
  {
   "cell_type": "code",
   "execution_count": 37,
   "metadata": {},
   "outputs": [
    {
     "name": "stdout",
     "output_type": "stream",
     "text": [
      "This string is supposed to be raw \n",
      " \n"
     ]
    }
   ],
   "source": [
    "myVariable = 'This string is supposed to be raw \\n '\n",
    "print(r'%s' %myVariable)"
   ]
  }
 ],
 "metadata": {
  "kernelspec": {
   "display_name": "kph2",
   "language": "python",
   "name": "kph2"
  },
  "language_info": {
   "codemirror_mode": {
    "name": "ipython",
    "version": 3
   },
   "file_extension": ".py",
   "mimetype": "text/x-python",
   "name": "python",
   "nbconvert_exporter": "python",
   "pygments_lexer": "ipython3",
   "version": "3.8.3"
  }
 },
 "nbformat": 4,
 "nbformat_minor": 4
}
